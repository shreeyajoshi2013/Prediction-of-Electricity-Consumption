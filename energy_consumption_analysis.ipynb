{
  "cells": [
    {
      "cell_type": "markdown",
      "source": [
        "## Energy_Consumption_Analysis\n",
        "\n",
        "Goal: Building a model that predicts electricity consumption, located in the KWH field in the dataset\n",
        "\n",
        "##Methodology\n",
        "\n",
        "\n",
        "1.   Data understanding\n",
        "    *  Data exploration \n",
        "2.   Data preparation\n",
        "    *  One-Hot Encoding the categorical columns\n",
        "    *  Handling NaN values\n",
        "    *  Removing the unneacesary columns\n",
        "       *  Assumptions and considerations:\n",
        "            *   Columns starting with 'Z' are the imputation flags for other variables. So are to be removed as they will not contrubute in the prediction.\n",
        "            *   Columns with thermal unit other than KWH are assumend to be not helpful. Hence are removed. \n",
        "            *   Columns which show the total consumptions of elements' electricity usage are redundant as the individual contributions by those elements are already present in the data. Hence are removed for avoiding data redundancy.\n",
        "3.   Data Analysis\n",
        "    * Finding the correlation of features with output variable and visualizing\n",
        "4.   Random Forest Regressor\n",
        "    *  Using GridSearchCV for selecting optimal hyperparameters for the model\n",
        "    *  Choosing important features by calculating feature importances\n",
        "\n",
        "## Conclusion <br>\n",
        "\n",
        "##Further Tasks <br>\n",
        "##References <br>\n"
      ],
      "metadata": {
        "id": "Tj-fR2ENcp0B"
      },
      "id": "Tj-fR2ENcp0B"
    },
    {
      "cell_type": "code",
      "execution_count": null,
      "metadata": {
        "colab": {
          "base_uri": "https://localhost:8080/"
        },
        "id": "XkPbAghrBcPR",
        "outputId": "2dae857f-4ce0-48f2-fc9e-a13f52d1376a"
      },
      "outputs": [
        {
          "output_type": "stream",
          "name": "stdout",
          "text": [
            "Mounted at /content/drive\n"
          ]
        }
      ],
      "source": [
        "from google.colab import drive\n",
        "drive.mount('/content/drive')"
      ],
      "id": "XkPbAghrBcPR"
    },
    {
      "cell_type": "markdown",
      "source": [
        "#1. Data understanding"
      ],
      "metadata": {
        "id": "LP-dEZ4MlqxR"
      },
      "id": "LP-dEZ4MlqxR"
    },
    {
      "cell_type": "markdown",
      "source": [
        "Importing the Libraries"
      ],
      "metadata": {
        "id": "IIed22C-G51W"
      },
      "id": "IIed22C-G51W"
    },
    {
      "cell_type": "code",
      "execution_count": null,
      "id": "c7b0c697",
      "metadata": {
        "id": "c7b0c697"
      },
      "outputs": [],
      "source": [
        "import pandas as pd\n",
        "import numpy as np\n",
        "from sklearn.preprocessing import LabelEncoder\n",
        "import matplotlib.pyplot as plt\n",
        "from sklearn.impute import SimpleImputer\n",
        "import numpy as np\n",
        "from sklearn.model_selection import train_test_split\n",
        "import seaborn as sns"
      ]
    },
    {
      "cell_type": "markdown",
      "source": [
        "Loading the data"
      ],
      "metadata": {
        "id": "J5zkY_3hG827"
      },
      "id": "J5zkY_3hG827"
    },
    {
      "cell_type": "code",
      "execution_count": null,
      "id": "a676384a",
      "metadata": {
        "id": "a676384a"
      },
      "outputs": [],
      "source": [
        "# Loading dataset\n",
        "PATH_data_layout = \"/public_layout.csv\"\n",
        "PATH_data_public = \"/recs2009_public.csv\"\n",
        "PATH_data_codebook = \"/recs2009_public_codebook.csv\"\n",
        "\n",
        "data_layout = pd.read_csv(PATH_data_layout, sep=',', low_memory=False) \n",
        "data_public = pd.read_csv(PATH_data_public, sep=',', low_memory=False) \n",
        "data_codebook = pd.read_csv(PATH_data_codebook, sep=',', low_memory=False) "
      ]
    },
    {
      "cell_type": "markdown",
      "source": [
        "Looking into the data"
      ],
      "metadata": {
        "id": "jd7kke6EHQLv"
      },
      "id": "jd7kke6EHQLv"
    },
    {
      "cell_type": "code",
      "execution_count": null,
      "id": "320c184b",
      "metadata": {
        "id": "320c184b",
        "colab": {
          "base_uri": "https://localhost:8080/"
        },
        "outputId": "347a77af-7044-451b-9d5a-27455f123151"
      },
      "outputs": [
        {
          "output_type": "stream",
          "name": "stdout",
          "text": [
            "<class 'pandas.core.frame.DataFrame'>\n",
            "RangeIndex: 12083 entries, 0 to 12082\n",
            "Data columns (total 940 columns):\n",
            " #    Column              Dtype  \n",
            "---   ------              -----  \n",
            " 0    DOEID               int64  \n",
            " 1    REGIONC             int64  \n",
            " 2    DIVISION            int64  \n",
            " 3    REPORTABLE_DOMAIN   int64  \n",
            " 4    TYPEHUQ             int64  \n",
            " 5    NWEIGHT             float64\n",
            " 6    HDD65               int64  \n",
            " 7    CDD65               int64  \n",
            " 8    HDD30YR             int64  \n",
            " 9    CDD30YR             int64  \n",
            " 10   Climate_Region_Pub  int64  \n",
            " 11   AIA_Zone            int64  \n",
            " 12   METROMICRO          object \n",
            " 13   UR                  object \n",
            " 14   KOWNRENT            int64  \n",
            " 15   CONDCOOP            int64  \n",
            " 16   YEARMADE            int64  \n",
            " 17   YEARMADERANGE       int64  \n",
            " 18   OCCUPYYRANGE        int64  \n",
            " 19   CONVERSION          int64  \n",
            " 20   ORIG1FAM            int64  \n",
            " 21   LOOKLIKE            int64  \n",
            " 22   NUMFLRS             int64  \n",
            " 23   NUMAPTS             int64  \n",
            " 24   WALLTYPE            int64  \n",
            " 25   ROOFTYPE            int64  \n",
            " 26   STUDIO              int64  \n",
            " 27   NAPTFLRS            int64  \n",
            " 28   STORIES             int64  \n",
            " 29   TYPEHUQ4            int64  \n",
            " 30   BEDROOMS            int64  \n",
            " 31   NCOMBATH            int64  \n",
            " 32   NHAFBATH            int64  \n",
            " 33   OTHROOMS            int64  \n",
            " 34   TOTROOMS            int64  \n",
            " 35   CELLAR              int64  \n",
            " 36   CRAWL               int64  \n",
            " 37   CONCRETE            int64  \n",
            " 38   BASEFIN             int64  \n",
            " 39   FINBASERMS          int64  \n",
            " 40   BASEHEAT            int64  \n",
            " 41   BASEHT2             int64  \n",
            " 42   PCTBSTHT            int64  \n",
            " 43   BASECOOL            int64  \n",
            " 44   BASECL2             int64  \n",
            " 45   PCTBSTCL            int64  \n",
            " 46   BASEUSE             int64  \n",
            " 47   ATTIC               int64  \n",
            " 48   ATTICFIN            int64  \n",
            " 49   FINATTRMS           int64  \n",
            " 50   ATTCHEAT            int64  \n",
            " 51   ATTCHT2             int64  \n",
            " 52   PCTATTHT            int64  \n",
            " 53   ATTCCOOL            int64  \n",
            " 54   ATTCCL2             int64  \n",
            " 55   PCTATTCL            int64  \n",
            " 56   ATTICUSE            int64  \n",
            " 57   PRKGPLC1            int64  \n",
            " 58   SIZEOFGARAGE        int64  \n",
            " 59   GARGLOC             int64  \n",
            " 60   GARGHEAT            int64  \n",
            " 61   GARGCOOL            int64  \n",
            " 62   PRKGPLC2            int64  \n",
            " 63   SIZEOFDETACH        int64  \n",
            " 64   OUTLET              int64  \n",
            " 65   ZKOWNRENT           int64  \n",
            " 66   ZCONDCOOP           int64  \n",
            " 67   ZYEARMADE           int64  \n",
            " 68   ZYEARMADERANGE      int64  \n",
            " 69   ZOCCUPYYRANGE       int64  \n",
            " 70   ZCONVERSION         int64  \n",
            " 71   ZORIG1FAM           int64  \n",
            " 72   ZLOOKLIKE           int64  \n",
            " 73   ZNUMFLRS            int64  \n",
            " 74   ZNUMAPTS            int64  \n",
            " 75   ZWALLTYPE           int64  \n",
            " 76   ZROOFTYPE           int64  \n",
            " 77   ZSTUDIO             int64  \n",
            " 78   ZNAPTFLRS           int64  \n",
            " 79   ZSTORIES            int64  \n",
            " 80   ZTYPEHUQ4           int64  \n",
            " 81   ZBEDROOMS           int64  \n",
            " 82   ZNCOMBATH           int64  \n",
            " 83   ZNHAFBATH           int64  \n",
            " 84   ZOTHROOMS           int64  \n",
            " 85   ZCELLAR             int64  \n",
            " 86   ZCRAWL              int64  \n",
            " 87   ZCONCRETE           int64  \n",
            " 88   ZBASEFIN            int64  \n",
            " 89   ZFINBASERMS         int64  \n",
            " 90   ZBASEHEAT           int64  \n",
            " 91   ZBASEHT2            int64  \n",
            " 92   ZPCTBSTHT           int64  \n",
            " 93   ZBASECOOL           int64  \n",
            " 94   ZBASECL2            int64  \n",
            " 95   ZPCTBSTCL           int64  \n",
            " 96   ZBASEUSE            int64  \n",
            " 97   ZATTIC              int64  \n",
            " 98   ZATTICFIN           int64  \n",
            " 99   ZFINATTRMS          int64  \n",
            " 100  ZATTCHEAT           int64  \n",
            " 101  ZATTCHT2            int64  \n",
            " 102  ZPCTATTHT           int64  \n",
            " 103  ZATTCCOOL           int64  \n",
            " 104  ZPCTATTCL           int64  \n",
            " 105  ZATTCCL2            int64  \n",
            " 106  ZATTICUSE           int64  \n",
            " 107  ZPRKGPLC1           int64  \n",
            " 108  ZSIZEOFGARAGE       int64  \n",
            " 109  ZGARGLOC            int64  \n",
            " 110  ZGARGHEAT           int64  \n",
            " 111  ZGARGCOOL           int64  \n",
            " 112  ZPRKGPLC2           int64  \n",
            " 113  ZSIZEOFDETACH       int64  \n",
            " 114  STOVEN              int64  \n",
            " 115  STOVENFUEL          int64  \n",
            " 116  STOVE               int64  \n",
            " 117  STOVEFUEL           int64  \n",
            " 118  OVEN                int64  \n",
            " 119  OVENFUEL            int64  \n",
            " 120  OVENUSE             int64  \n",
            " 121  OVENCLN             int64  \n",
            " 122  TYPECLN             int64  \n",
            " 123  MICRO               int64  \n",
            " 124  AMTMICRO            int64  \n",
            " 125  DEFROST             int64  \n",
            " 126  OUTGRILL            int64  \n",
            " 127  OUTGRILLFUEL        int64  \n",
            " 128  TOPGRILL            int64  \n",
            " 129  STGRILA             int64  \n",
            " 130  TOASTER             int64  \n",
            " 131  NUMMEAL             int64  \n",
            " 132  FUELFOOD            int64  \n",
            " 133  COFFEE              int64  \n",
            " 134  NUMFRIG             int64  \n",
            " 135  TYPERFR1            int64  \n",
            " 136  SIZRFRI1            int64  \n",
            " 137  REFRIGT1            int64  \n",
            " 138  ICE                 int64  \n",
            " 139  AGERFRI1            int64  \n",
            " 140  ESFRIG              int64  \n",
            " 141  REPLCFRI            int64  \n",
            " 142  HELPFRI             int64  \n",
            " 143  HELPFRIY            int64  \n",
            " 144  TYPERFR2            int64  \n",
            " 145  SIZRFRI2            int64  \n",
            " 146  REFRIGT2            int64  \n",
            " 147  MONRFRI2            int64  \n",
            " 148  AGERFRI2            int64  \n",
            " 149  ESFRIG2             int64  \n",
            " 150  TYPERFR3            int64  \n",
            " 151  SIZRFRI3            int64  \n",
            " 152  REFRIGT3            int64  \n",
            " 153  MONRFRI3            int64  \n",
            " 154  AGERFRI3            int64  \n",
            " 155  ESFRIG3             int64  \n",
            " 156  SEPFREEZ            int64  \n",
            " 157  NUMFREEZ            int64  \n",
            " 158  UPRTFRZR            int64  \n",
            " 159  SIZFREEZ            int64  \n",
            " 160  FREEZER             int64  \n",
            " 161  AGEFRZR             int64  \n",
            " 162  REPLCFRZ            int64  \n",
            " 163  HELPFRZ             int64  \n",
            " 164  HELPFRZY            int64  \n",
            " 165  UPRTFRZR2           int64  \n",
            " 166  SIZFREEZ2           int64  \n",
            " 167  FREEZER2            int64  \n",
            " 168  AGEFRZR2            int64  \n",
            " 169  DISHWASH            int64  \n",
            " 170  DWASHUSE            int64  \n",
            " 171  AGEDW               int64  \n",
            " 172  ESDISHW             int64  \n",
            " 173  REPLCDW             int64  \n",
            " 174  HELPDW              int64  \n",
            " 175  HELPDWY             int64  \n",
            " 176  ZSTOVEN             int64  \n",
            " 177  ZSTOVENFUEL         int64  \n",
            " 178  ZSTOVE              int64  \n",
            " 179  ZSTOVEFUEL          int64  \n",
            " 180  ZOVEN               int64  \n",
            " 181  ZOVENFUEL           int64  \n",
            " 182  ZOVENUSE            int64  \n",
            " 183  ZOVENCLN            int64  \n",
            " 184  ZTYPECLN            int64  \n",
            " 185  ZMICRO              int64  \n",
            " 186  ZAMTMICRO           int64  \n",
            " 187  ZDEFROST            int64  \n",
            " 188  ZOUTGRILL           int64  \n",
            " 189  ZOUTGRILLFUEL       int64  \n",
            " 190  ZTOPGRILL           int64  \n",
            " 191  ZSTGRILA            int64  \n",
            " 192  ZTOASTER            int64  \n",
            " 193  ZNUMMEAL            int64  \n",
            " 194  ZFUELFOOD           int64  \n",
            " 195  ZCOFFEE             int64  \n",
            " 196  ZNUMFRIG            int64  \n",
            " 197  ZTYPERFR1           int64  \n",
            " 198  ZSIZRFRI1           int64  \n",
            " 199  ZREFRIGT1           int64  \n",
            " 200  ZICE                int64  \n",
            " 201  ZAGERFRI1           int64  \n",
            " 202  ZTYPERFR2           int64  \n",
            " 203  ZSIZRFRI2           int64  \n",
            " 204  ZREFRIGT2           int64  \n",
            " 205  ZMONRFRI2           int64  \n",
            " 206  ZAGERFRI2           int64  \n",
            " 207  ZTYPERFR3           int64  \n",
            " 208  ZSIZRFRI3           int64  \n",
            " 209  ZREFRIGT3           int64  \n",
            " 210  ZMONRFRI3           int64  \n",
            " 211  ZAGERFRI3           int64  \n",
            " 212  ZSEPFREEZ           int64  \n",
            " 213  ZNUMFREEZ           int64  \n",
            " 214  ZUPRTFRZR           int64  \n",
            " 215  ZSIZFREEZ           int64  \n",
            " 216  ZFREEZER            int64  \n",
            " 217  ZAGEFRZR            int64  \n",
            " 218  ZUPRTFRZR2          int64  \n",
            " 219  ZSIZFREEZ2          int64  \n",
            " 220  ZFREEZER2           int64  \n",
            " 221  ZAGEFRZR2           int64  \n",
            " 222  ZDISHWASH           int64  \n",
            " 223  ZDWASHUSE           int64  \n",
            " 224  ZAGEDW              int64  \n",
            " 225  CWASHER             int64  \n",
            " 226  TOPFRONT            int64  \n",
            " 227  WASHLOAD            int64  \n",
            " 228  WASHTEMP            int64  \n",
            " 229  RNSETEMP            int64  \n",
            " 230  AGECWASH            int64  \n",
            " 231  ESCWASH             int64  \n",
            " 232  REPLCCW             int64  \n",
            " 233  HELPCW              int64  \n",
            " 234  HELPCWY             int64  \n",
            " 235  DRYER               int64  \n",
            " 236  DRYRFUEL            int64  \n",
            " 237  DRYRUSE             int64  \n",
            " 238  AGECDRYER           int64  \n",
            " 239  TVCOLOR             int64  \n",
            " 240  TVSIZE1             int64  \n",
            " 241  TVTYPE1             int64  \n",
            " 242  CABLESAT1           int64  \n",
            " 243  COMBODVR1           int64  \n",
            " 244  DVR1                int64  \n",
            " 245  DIGITSTB1           int64  \n",
            " 246  PLAYSTA1            int64  \n",
            " 247  COMBOVCRDVD1        int64  \n",
            " 248  VCR1                int64  \n",
            " 249  DVD1                int64  \n",
            " 250  TVAUDIOSYS1         int64  \n",
            " 251  OTHERSTB1           int64  \n",
            " 252  TVONWD1             int64  \n",
            " 253  TVONWDWATCH1        int64  \n",
            " 254  TVONWE1             int64  \n",
            " 255  TVONWEWATCH1        int64  \n",
            " 256  TVSIZE2             int64  \n",
            " 257  TVTYPE2             int64  \n",
            " 258  CABLESAT2           int64  \n",
            " 259  COMBODVR2           int64  \n",
            " 260  DVR2                int64  \n",
            " 261  DIGITSTB2           int64  \n",
            " 262  PLAYSTA2            int64  \n",
            " 263  COMBOVCRDVD2        int64  \n",
            " 264  VCR2                int64  \n",
            " 265  DVD2                int64  \n",
            " 266  TVAUDIOSYS2         int64  \n",
            " 267  OTHERSTB2           int64  \n",
            " 268  TVONWD2             int64  \n",
            " 269  TVONWDWATCH2        int64  \n",
            " 270  TVONWE2             int64  \n",
            " 271  TVONWEWATCH2        int64  \n",
            " 272  TVSIZE3             int64  \n",
            " 273  TVTYPE3             int64  \n",
            " 274  CABLESAT3           int64  \n",
            " 275  COMBODVR3           int64  \n",
            " 276  DVR3                int64  \n",
            " 277  DIGITSTB3           int64  \n",
            " 278  PLAYSTA3            int64  \n",
            " 279  COMBOVCRDVD3        int64  \n",
            " 280  VCR3                int64  \n",
            " 281  DVD3                int64  \n",
            " 282  TVAUDIOSYS3         int64  \n",
            " 283  OTHERSTB3           int64  \n",
            " 284  TVONWD3             int64  \n",
            " 285  TVONWDWATCH3        int64  \n",
            " 286  TVONWE3             int64  \n",
            " 287  TVONWEWATCH3        int64  \n",
            " 288  COMPUTER            int64  \n",
            " 289  NUMPC               int64  \n",
            " 290  PCTYPE1             int64  \n",
            " 291  MONITOR1            int64  \n",
            " 292  TIMEON1             int64  \n",
            " 293  PCONOFF1            int64  \n",
            " 294  PCSLEEP1            int64  \n",
            " 295  PCTYPE2             int64  \n",
            " 296  MONITOR2            int64  \n",
            " 297  TIMEON2             int64  \n",
            " 298  PCONOFF2            int64  \n",
            " 299  PCSLEEP2            int64  \n",
            " 300  PCTYPE3             int64  \n",
            " 301  MONITOR3            int64  \n",
            " 302  TIMEON3             int64  \n",
            " 303  PCONOFF3            int64  \n",
            " 304  PCSLEEP3            int64  \n",
            " 305  INTERNET            int64  \n",
            " 306  INDIALUP            int64  \n",
            " 307  INDSL               int64  \n",
            " 308  INCABLE             int64  \n",
            " 309  INSATEL             int64  \n",
            " 310  INWIRELESS          int64  \n",
            " 311  PCPRINT             int64  \n",
            " 312  FAX                 int64  \n",
            " 313  COPIER              int64  \n",
            " 314  WELLPUMP            int64  \n",
            " 315  DIPSTICK            int64  \n",
            " 316  SWAMPCOL            int64  \n",
            " 317  AQUARIUM            int64  \n",
            " 318  STEREO              int64  \n",
            " 319  NOCORD              int64  \n",
            " 320  ANSMACH             int64  \n",
            " 321  BATTOOLS            int64  \n",
            " 322  BATCHRG             int64  \n",
            " 323  CHRGPLGT            int64  \n",
            " 324  ELECDEV             int64  \n",
            " 325  ELECCHRG            int64  \n",
            " 326  CHRGPLGE            int64  \n",
            " 327  ZCWASHER            int64  \n",
            " 328  ZTOPFRONT           int64  \n",
            " 329  ZWASHLOAD           int64  \n",
            " 330  ZWASHTEMP           int64  \n",
            " 331  ZRNSETEMP           int64  \n",
            " 332  ZAGECWASH           int64  \n",
            " 333  ZDRYER              int64  \n",
            " 334  ZDRYRFUEL           int64  \n",
            " 335  ZDRYRUSE            int64  \n",
            " 336  ZAGECDRYER          int64  \n",
            " 337  ZTVCOLOR            int64  \n",
            " 338  ZTVSIZE1            int64  \n",
            " 339  ZTVTYPE1            int64  \n",
            " 340  ZCABLESAT1          int64  \n",
            " 341  ZCOMBODVR1          int64  \n",
            " 342  ZDVR1               int64  \n",
            " 343  ZDIGITSTB1          int64  \n",
            " 344  ZPLAYSTA1           int64  \n",
            " 345  ZCOMBOVCRDVD1       int64  \n",
            " 346  ZVCR1               int64  \n",
            " 347  ZDVD1               int64  \n",
            " 348  ZTVAUDIOSYS1        int64  \n",
            " 349  ZOTHERSTB1          int64  \n",
            " 350  ZTVONWD1            int64  \n",
            " 351  ZTVONWDWATCH1       int64  \n",
            " 352  ZTVONWE1            int64  \n",
            " 353  ZTVONWEWATCH1       int64  \n",
            " 354  ZTVSIZE2            int64  \n",
            " 355  ZTVTYPE2            int64  \n",
            " 356  ZCABLESAT2          int64  \n",
            " 357  ZCOMBODVR2          int64  \n",
            " 358  ZDVR2               int64  \n",
            " 359  ZDIGITSTB2          int64  \n",
            " 360  ZPLAYSTA2           int64  \n",
            " 361  ZCOMBOVCRDVD2       int64  \n",
            " 362  ZVCR2               int64  \n",
            " 363  ZDVD2               int64  \n",
            " 364  ZTVAUDIOSYS2        int64  \n",
            " 365  ZOTHERSTB2          int64  \n",
            " 366  ZTVONWD2            int64  \n",
            " 367  ZTVONWDWATCH2       int64  \n",
            " 368  ZTVONWE2            int64  \n",
            " 369  ZTVONWEWATCH2       int64  \n",
            " 370  ZTVSIZE3            int64  \n",
            " 371  ZTVTYPE3            int64  \n",
            " 372  ZCABLESAT3          int64  \n",
            " 373  ZCOMBODVR3          int64  \n",
            " 374  ZDVR3               int64  \n",
            " 375  ZDIGITSTB3          int64  \n",
            " 376  ZPLAYSTA3           int64  \n",
            " 377  ZCOMBOVCRDVD3       int64  \n",
            " 378  ZVCR3               int64  \n",
            " 379  ZDVD3               int64  \n",
            " 380  ZTVAUDIOSYS3        int64  \n",
            " 381  ZOTHERSTB3          int64  \n",
            " 382  ZTVONWD3            int64  \n",
            " 383  ZTVONWDWATCH3       int64  \n",
            " 384  ZTVONWE3            int64  \n",
            " 385  ZTVONWEWATCH3       int64  \n",
            " 386  ZCOMPUTER           int64  \n",
            " 387  ZNUMPC              int64  \n",
            " 388  ZPCTYPE1            int64  \n",
            " 389  ZMONITOR1           int64  \n",
            " 390  ZTIMEON1            int64  \n",
            " 391  ZPCONOFF1           int64  \n",
            " 392  ZPCSLEEP1           int64  \n",
            " 393  ZPCTYPE2            int64  \n",
            " 394  ZMONITOR2           int64  \n",
            " 395  ZTIMEON2            int64  \n",
            " 396  ZPCONOFF2           int64  \n",
            " 397  ZPCSLEEP2           int64  \n",
            " 398  ZPCTYPE3            int64  \n",
            " 399  ZMONITOR3           int64  \n",
            " 400  ZTIMEON3            int64  \n",
            " 401  ZPCONOFF3           int64  \n",
            " 402  ZPCSLEEP3           int64  \n",
            " 403  ZINTERNET           int64  \n",
            " 404  ZINDIALUP           int64  \n",
            " 405  ZINDSL              int64  \n",
            " 406  ZINCABLE            int64  \n",
            " 407  ZINSATEL            int64  \n",
            " 408  ZINWIRELESS         int64  \n",
            " 409  ZPCPRINT            int64  \n",
            " 410  ZFAX                int64  \n",
            " 411  ZCOPIER             int64  \n",
            " 412  ZWELLPUMP           int64  \n",
            " 413  ZDIPSTICK           int64  \n",
            " 414  ZSWAMPCOL           int64  \n",
            " 415  ZAQUARIUM           int64  \n",
            " 416  ZSTEREO             int64  \n",
            " 417  ZNOCORD             int64  \n",
            " 418  ZANSMACH            int64  \n",
            " 419  ZBATTOOLS           int64  \n",
            " 420  ZBATCHRG            int64  \n",
            " 421  ZCHRGPLGT           int64  \n",
            " 422  ZELECDEV            int64  \n",
            " 423  ZELECCHRG           int64  \n",
            " 424  ZCHRGPLGE           int64  \n",
            " 425  HEATHOME            int64  \n",
            " 426  DNTHEAT             int64  \n",
            " 427  EQUIPNOHEAT         int64  \n",
            " 428  FUELNOHEAT          int64  \n",
            " 429  EQUIPM              int64  \n",
            " 430  FUELHEAT            int64  \n",
            " 431  MAINTHT             int64  \n",
            " 432  EQUIPAGE            int64  \n",
            " 433  REPLCHT             int64  \n",
            " 434  HELPHT              int64  \n",
            " 435  HELPHTY             int64  \n",
            " 436  HEATOTH             int64  \n",
            " 437  EQUIPAUX            int64  \n",
            " 438  REVERSE             int64  \n",
            " 439  WARMAIR             int64  \n",
            " 440  FURNFUEL            int64  \n",
            " 441  STEAMR              int64  \n",
            " 442  RADFUEL             int64  \n",
            " 443  PERMELEC            int64  \n",
            " 444  PIPELESS            int64  \n",
            " 445  PIPEFUEL            int64  \n",
            " 446  ROOMHEAT            int64  \n",
            " 447  RMHTFUEL            int64  \n",
            " 448  WOODKILN            int64  \n",
            " 449  HSFUEL              int64  \n",
            " 450  CARRYEL             int64  \n",
            " 451  CARRYKER            int64  \n",
            " 452  CHIMNEY             int64  \n",
            " 453  FPFUEL              int64  \n",
            " 454  NGFPFLUE            int64  \n",
            " 455  USENGFP             int64  \n",
            " 456  RANGE               int64  \n",
            " 457  RNGFUEL             int64  \n",
            " 458  DIFEQUIP            int64  \n",
            " 459  DIFFUEL             int64  \n",
            " 460  EQMAMT              int64  \n",
            " 461  HEATROOM            int64  \n",
            " 462  THERMAIN            int64  \n",
            " 463  NUMTHERM            int64  \n",
            " 464  PROTHERM            int64  \n",
            " 465  AUTOHEATNITE        int64  \n",
            " 466  AUTOHEATDAY         int64  \n",
            " 467  TEMPHOME            int64  \n",
            " 468  TEMPGONE            int64  \n",
            " 469  TEMPNITE            int64  \n",
            " 470  MOISTURE            int64  \n",
            " 471  USEMOISTURE         int64  \n",
            " 472  ZHEATHOME           int64  \n",
            " 473  ZDNTHEAT            int64  \n",
            " 474  ZEQUIPNOHEAT        int64  \n",
            " 475  ZFUELNOHEAT         int64  \n",
            " 476  ZEQUIPM             int64  \n",
            " 477  ZFUELHEAT           int64  \n",
            " 478  ZMAINTHT            int64  \n",
            " 479  ZEQUIPAGE           int64  \n",
            " 480  ZHEATOTH            int64  \n",
            " 481  ZFURNFUEL           int64  \n",
            " 482  ZRADFUEL            int64  \n",
            " 483  ZPIPEFUEL           int64  \n",
            " 484  ZRMHTFUEL           int64  \n",
            " 485  ZHSFUEL             int64  \n",
            " 486  ZFPFUEL             int64  \n",
            " 487  ZNGFPFLUE           int64  \n",
            " 488  ZUSENGFP            int64  \n",
            " 489  ZRNGFUEL            int64  \n",
            " 490  ZDIFFUEL            int64  \n",
            " 491  ZEQMAMT             int64  \n",
            " 492  ZHEATROOM           int64  \n",
            " 493  ZTHERMAIN           int64  \n",
            " 494  ZNUMTHERM           int64  \n",
            " 495  ZPROTHERM           int64  \n",
            " 496  ZAUTOHEATNITE       int64  \n",
            " 497  ZAUTOHEATDAY        int64  \n",
            " 498  ZTEMPHOME           int64  \n",
            " 499  ZTEMPGONE           int64  \n",
            " 500  ZTEMPNITE           int64  \n",
            " 501  ZMOISTURE           int64  \n",
            " 502  ZUSEMOISTURE        int64  \n",
            " 503  NUMH2ONOTNK         int64  \n",
            " 504  NUMH2OHTRS          int64  \n",
            " 505  H2OTYPE1            int64  \n",
            " 506  FUELH2O             int64  \n",
            " 507  WHEATOTH            int64  \n",
            " 508  WHEATSIZ            int64  \n",
            " 509  WHEATAGE            int64  \n",
            " 510  WHEATBKT            int64  \n",
            " 511  HELPWH              int64  \n",
            " 512  HELPWHY             int64  \n",
            " 513  H2OTYPE2            int64  \n",
            " 514  FUELH2O2            int64  \n",
            " 515  WHEATSIZ2           int64  \n",
            " 516  WHEATAGE2           int64  \n",
            " 517  ZNUMH2OHTRS         int64  \n",
            " 518  ZNUMH2ONOTNK        int64  \n",
            " 519  ZH2OTYPE1           int64  \n",
            " 520  ZFUELH2O            int64  \n",
            " 521  ZWHEATOTH           int64  \n",
            " 522  ZWHEATSIZ           int64  \n",
            " 523  ZWHEATAGE           int64  \n",
            " 524  ZWHEATBKT           int64  \n",
            " 525  ZH2OTYPE2           int64  \n",
            " 526  ZFUELH2O2           int64  \n",
            " 527  ZWHEATSIZ2          int64  \n",
            " 528  ZWHEATAGE2          int64  \n",
            " 529  AIRCOND             int64  \n",
            " 530  DNTAC               int64  \n",
            " 531  COOLTYPENOAC        int64  \n",
            " 532  COOLTYPE            int64  \n",
            " 533  DUCTS               int64  \n",
            " 534  CENACHP             int64  \n",
            " 535  ACOTHERS            int64  \n",
            " 536  MAINTAC             int64  \n",
            " 537  AGECENAC            int64  \n",
            " 538  REPLCCAC            int64  \n",
            " 539  HELPCAC             int64  \n",
            " 540  HELPCACY            int64  \n",
            " 541  ACROOMS             int64  \n",
            " 542  USECENAC            int64  \n",
            " 543  THERMAINAC          int64  \n",
            " 544  PROTHERMAC          int64  \n",
            " 545  AUTOCOOLNITE        int64  \n",
            " 546  AUTOCOOLDAY         int64  \n",
            " 547  TEMPHOMEAC          int64  \n",
            " 548  TEMPGONEAC          int64  \n",
            " 549  TEMPNITEAC          int64  \n",
            " 550  NUMBERAC            int64  \n",
            " 551  WWACAGE             int64  \n",
            " 552  ESWWAC              int64  \n",
            " 553  REPLCWWAC           int64  \n",
            " 554  HELPWWAC            int64  \n",
            " 555  HELPWWACY           int64  \n",
            " 556  USEWWAC             int64  \n",
            " 557  NUMCFAN             int64  \n",
            " 558  USECFAN             int64  \n",
            " 559  TREESHAD            int64  \n",
            " 560  NOTMOIST            int64  \n",
            " 561  USENOTMOIST         int64  \n",
            " 562  ZAIRCOND            int64  \n",
            " 563  ZDNTAC              int64  \n",
            " 564  ZCOOLTYPENOAC       int64  \n",
            " 565  ZCOOLTYPE           int64  \n",
            " 566  ZDUCTS              int64  \n",
            " 567  ZCENACHP            int64  \n",
            " 568  ZACOTHERS           int64  \n",
            " 569  ZMAINTAC            int64  \n",
            " 570  ZAGECENAC           int64  \n",
            " 571  ZUSECENAC           int64  \n",
            " 572  ZACROOMS            int64  \n",
            " 573  ZTHERMAINAC         int64  \n",
            " 574  ZPROTHERMAC         int64  \n",
            " 575  ZAUTOCOOLNITE       int64  \n",
            " 576  ZAUTOCOOLDAY        int64  \n",
            " 577  ZTEMPHOMEAC         int64  \n",
            " 578  ZTEMPGONEAC         int64  \n",
            " 579  ZTEMPNITEAC         int64  \n",
            " 580  ZNUMBERAC           int64  \n",
            " 581  ZWWACAGE            int64  \n",
            " 582  ZUSEWWAC            int64  \n",
            " 583  ZNUMCFAN            int64  \n",
            " 584  ZUSECFAN            int64  \n",
            " 585  ZTREESHAD           int64  \n",
            " 586  ZNOTMOIST           int64  \n",
            " 587  ZUSENOTMOIST        int64  \n",
            " 588  HIGHCEIL            int64  \n",
            " 589  CATHCEIL            int64  \n",
            " 590  SWIMPOOL            int64  \n",
            " 591  POOL                int64  \n",
            " 592  FUELPOOL            int64  \n",
            " 593  RECBATH             int64  \n",
            " 594  FUELTUB             int64  \n",
            " 595  LGT12               int64  \n",
            " 596  LGT12EE             int64  \n",
            " 597  LGT4                int64  \n",
            " 598  LGT4EE              int64  \n",
            " 599  LGT1                int64  \n",
            " 600  LGT1EE              int64  \n",
            " 601  NOUTLGTNT           int64  \n",
            " 602  LGTOEE              int64  \n",
            " 603  NGASLIGHT           int64  \n",
            " 604  INSTLCFL            int64  \n",
            " 605  HELPCFL             int64  \n",
            " 606  HELPCFLY            int64  \n",
            " 607  SLDDRS              int64  \n",
            " 608  DOOR1SUM            int64  \n",
            " 609  WINDOWS             int64  \n",
            " 610  TYPEGLASS           int64  \n",
            " 611  NEWGLASS            int64  \n",
            " 612  HELPWIN             int64  \n",
            " 613  HELPWINY            int64  \n",
            " 614  ADQINSUL            int64  \n",
            " 615  INSTLINS            int64  \n",
            " 616  AGEINS              int64  \n",
            " 617  HELPINS             int64  \n",
            " 618  HELPINSY            int64  \n",
            " 619  DRAFTY              int64  \n",
            " 620  INSTLWS             int64  \n",
            " 621  AGEWS               int64  \n",
            " 622  HELPWS              int64  \n",
            " 623  HELPWSY             int64  \n",
            " 624  AUDIT               int64  \n",
            " 625  AGEAUD              int64  \n",
            " 626  HELPAUD             int64  \n",
            " 627  HELPAUDY            int64  \n",
            " 628  ZHIGHCEIL           int64  \n",
            " 629  ZCATHCEIL           int64  \n",
            " 630  ZSWIMPOOL           int64  \n",
            " 631  ZPOOL               int64  \n",
            " 632  ZFUELPOOL           int64  \n",
            " 633  ZRECBATH            int64  \n",
            " 634  ZFUELTUB            int64  \n",
            " 635  ZLGT12              int64  \n",
            " 636  ZLGT4               int64  \n",
            " 637  ZLGT1               int64  \n",
            " 638  ZNOUTLGTNT          int64  \n",
            " 639  ZNGASLIGHT          int64  \n",
            " 640  ZSLDDRS             int64  \n",
            " 641  ZDOOR1SUM           int64  \n",
            " 642  ZWINDOWS            int64  \n",
            " 643  ZTYPEGLASS          int64  \n",
            " 644  ZNEWGLASS           int64  \n",
            " 645  ZADQINSUL           int64  \n",
            " 646  ZINSTLINS           int64  \n",
            " 647  ZAGEINS             int64  \n",
            " 648  ZDRAFTY             int64  \n",
            " 649  ZINSTLWS            int64  \n",
            " 650  ZAGEWS              int64  \n",
            " 651  ZAUDIT              int64  \n",
            " 652  ZAGEAUD             int64  \n",
            " 653  USEEL               int64  \n",
            " 654  USENG               int64  \n",
            " 655  USELP               int64  \n",
            " 656  USEFO               int64  \n",
            " 657  USEKERO             int64  \n",
            " 658  USEWOOD             int64  \n",
            " 659  USESOLAR            int64  \n",
            " 660  USEOTH              int64  \n",
            " 661  ELWARM              int64  \n",
            " 662  ELECAUX             int64  \n",
            " 663  ELCOOL              int64  \n",
            " 664  ELWATER             int64  \n",
            " 665  ELFOOD              int64  \n",
            " 666  ELOTHER             int64  \n",
            " 667  UGWARM              int64  \n",
            " 668  UGASAUX             int64  \n",
            " 669  UGWATER             int64  \n",
            " 670  UGCOOK              int64  \n",
            " 671  UGOTH               int64  \n",
            " 672  LPWARM              int64  \n",
            " 673  LPGAUX              int64  \n",
            " 674  LPWATER             int64  \n",
            " 675  LPCOOK              int64  \n",
            " 676  LPOTHER             int64  \n",
            " 677  FOWARM              int64  \n",
            " 678  FOILAUX             int64  \n",
            " 679  FOWATER             int64  \n",
            " 680  FOOTHER             int64  \n",
            " 681  KRWARM              int64  \n",
            " 682  KEROAUX             int64  \n",
            " 683  KRWATER             int64  \n",
            " 684  KROTHER             int64  \n",
            " 685  WDWARM              int64  \n",
            " 686  WOODAUX             int64  \n",
            " 687  WDWATER             int64  \n",
            " 688  WDOTHUSE            int64  \n",
            " 689  SOLWARM             int64  \n",
            " 690  SOLARAUX            int64  \n",
            " 691  SOLWATER            int64  \n",
            " 692  SOLOTHER            int64  \n",
            " 693  OTHWARM             int64  \n",
            " 694  OTHERAUX            int64  \n",
            " 695  OTHWATER            int64  \n",
            " 696  OTHCOOK             int64  \n",
            " 697  ONSITE              int64  \n",
            " 698  ONSITEGRID          int64  \n",
            " 699  PELHEAT             int64  \n",
            " 700  PELHOTWA            int64  \n",
            " 701  PELCOOK             int64  \n",
            " 702  PELAC               int64  \n",
            " 703  PELLIGHT            int64  \n",
            " 704  OTHERWAYEL          int64  \n",
            " 705  PGASHEAT            int64  \n",
            " 706  PGASHTWA            int64  \n",
            " 707  PUGCOOK             int64  \n",
            " 708  PUGOTH              int64  \n",
            " 709  OTHERWAYNG          int64  \n",
            " 710  FOPAY               int64  \n",
            " 711  OTHERWAYFO          int64  \n",
            " 712  LPGPAY              int64  \n",
            " 713  OTHERWAYLPG         int64  \n",
            " 714  LPGDELV             int64  \n",
            " 715  KERODEL             int64  \n",
            " 716  KEROCASH            int64  \n",
            " 717  NOCRCASH            object \n",
            " 718  NKRGALNC            object \n",
            " 719  WOODLOGS            int64  \n",
            " 720  WDSCRAP             int64  \n",
            " 721  WDPELLET            int64  \n",
            " 722  WDOTHER             int64  \n",
            " 723  WOODAMT             int64  \n",
            " 724  NUMCORDS            float64\n",
            " 725  ZONSITE             int64  \n",
            " 726  ZONSITEGRID         int64  \n",
            " 727  ZPELHEAT            int64  \n",
            " 728  ZPELHOTWA           int64  \n",
            " 729  ZPELCOOK            int64  \n",
            " 730  ZPELAC              int64  \n",
            " 731  ZPELLIGHT           int64  \n",
            " 732  ZOTHERWAYEL         int64  \n",
            " 733  ZPGASHEAT           int64  \n",
            " 734  ZPGASHTWA           int64  \n",
            " 735  ZPUGCOOK            int64  \n",
            " 736  ZPUGOTH             int64  \n",
            " 737  ZOTHERWAYNG         int64  \n",
            " 738  ZFOPAY              int64  \n",
            " 739  ZOTHERWAYFO         int64  \n",
            " 740  ZLPGPAY             int64  \n",
            " 741  ZOTHERWAYLPG        int64  \n",
            " 742  ZKERODEL            int64  \n",
            " 743  ZKEROCASH           int64  \n",
            " 744  ZNOCRCASH           int64  \n",
            " 745  ZNKRGALNC           int64  \n",
            " 746  ZWOODLOGS           int64  \n",
            " 747  ZWDSCRAP            int64  \n",
            " 748  ZWDPELLET           int64  \n",
            " 749  ZWDOTHER            int64  \n",
            " 750  ZWOODAMT            int64  \n",
            " 751  ZNUMCORDS           int64  \n",
            " 752  KFUELOT             int64  \n",
            " 753  HHSEX               int64  \n",
            " 754  EMPLOYHH            int64  \n",
            " 755  SPOUSE              int64  \n",
            " 756  SDESCENT            int64  \n",
            " 757  Householder_Race    int64  \n",
            " 758  EDUCATION           int64  \n",
            " 759  NHSLDMEM            int64  \n",
            " 760  HHAGE               int64  \n",
            " 761  AGEHHMEMCAT2        int64  \n",
            " 762  AGEHHMEMCAT3        int64  \n",
            " 763  AGEHHMEMCAT4        int64  \n",
            " 764  AGEHHMEMCAT5        int64  \n",
            " 765  AGEHHMEMCAT6        int64  \n",
            " 766  AGEHHMEMCAT7        int64  \n",
            " 767  AGEHHMEMCAT8        int64  \n",
            " 768  AGEHHMEMCAT9        int64  \n",
            " 769  AGEHHMEMCAT10       int64  \n",
            " 770  AGEHHMEMCAT11       int64  \n",
            " 771  AGEHHMEMCAT12       int64  \n",
            " 772  AGEHHMEMCAT13       int64  \n",
            " 773  AGEHHMEMCAT14       int64  \n",
            " 774  HBUSNESS            int64  \n",
            " 775  ATHOME              int64  \n",
            " 776  TELLWORK            int64  \n",
            " 777  TELLDAYS            int64  \n",
            " 778  OTHWORK             int64  \n",
            " 779  WORKPAY             int64  \n",
            " 780  RETIREPY            int64  \n",
            " 781  SSINCOME            int64  \n",
            " 782  CASHBEN             int64  \n",
            " 783  INVESTMT            int64  \n",
            " 784  RGLRPAY             int64  \n",
            " 785  MONEYPY             int64  \n",
            " 786  POVERTY100          int64  \n",
            " 787  POVERTY150          int64  \n",
            " 788  HUPROJ              int64  \n",
            " 789  RENTHELP            int64  \n",
            " 790  FOODASST            int64  \n",
            " 791  ZHHSEX              int64  \n",
            " 792  ZHHAGE              int64  \n",
            " 793  ZEMPLOYHH           int64  \n",
            " 794  ZSPOUSE             int64  \n",
            " 795  ZSDESCENT           int64  \n",
            " 796  ZHouseholder_Race   int64  \n",
            " 797  ZEDUCATION          int64  \n",
            " 798  ZNHSLDMEM           int64  \n",
            " 799  ZAGEHHMEMCAT2       int64  \n",
            " 800  ZAGEHHMEMCAT3       int64  \n",
            " 801  ZAGEHHMEMCAT4       int64  \n",
            " 802  ZAGEHHMEMCAT5       int64  \n",
            " 803  ZAGEHHMEMCAT6       int64  \n",
            " 804  ZAGEHHMEMCAT7       int64  \n",
            " 805  ZAGEHHMEMCAT8       int64  \n",
            " 806  ZAGEHHMEMCAT9       int64  \n",
            " 807  ZAGEHHMEMCAT10      int64  \n",
            " 808  ZAGEHHMEMCAT11      int64  \n",
            " 809  ZAGEHHMEMCAT12      int64  \n",
            " 810  ZAGEHHMEMCAT13      int64  \n",
            " 811  ZAGEHHMEMCAT14      int64  \n",
            " 812  ZHBUSNESS           int64  \n",
            " 813  ZATHOME             int64  \n",
            " 814  ZTELLWORK           int64  \n",
            " 815  ZTELLDAYS           int64  \n",
            " 816  ZOTHWORK            int64  \n",
            " 817  ZWORKPAY            int64  \n",
            " 818  ZRETIREPY           int64  \n",
            " 819  ZSSINCOME           int64  \n",
            " 820  ZCASHBEN            int64  \n",
            " 821  ZINVESTMT           int64  \n",
            " 822  ZRGLRPAY            int64  \n",
            " 823  ZMONEYPY            int64  \n",
            " 824  ZHUPROJ             int64  \n",
            " 825  ZRENTHELP           int64  \n",
            " 826  ZFOODASST           int64  \n",
            " 827  TOTSQFT             int64  \n",
            " 828  TOTSQFT_EN          int64  \n",
            " 829  TOTHSQFT            int64  \n",
            " 830  TOTUSQFT            int64  \n",
            " 831  TOTCSQFT            int64  \n",
            " 832  TOTUCSQFT           int64  \n",
            " 833  ZTOTSQFT            int64  \n",
            " 834  ZTOTSQFT_EN         int64  \n",
            " 835  ZTOTHSQFT           int64  \n",
            " 836  ZTOTUSQFT           int64  \n",
            " 837  ZTOTCSQFT           int64  \n",
            " 838  ZTOTUCSQFT          int64  \n",
            " 839  KWH                 int64  \n",
            " 840  KWHSPH              float64\n",
            " 841  KWHCOL              float64\n",
            " 842  KWHWTH              float64\n",
            " 843  KWHRFG              float64\n",
            " 844  KWHOTH              float64\n",
            " 845  BTUEL               int64  \n",
            " 846  BTUELSPH            float64\n",
            " 847  BTUELCOL            float64\n",
            " 848  BTUELWTH            float64\n",
            " 849  BTUELRFG            float64\n",
            " 850  BTUELOTH            float64\n",
            " 851  DOLLAREL            int64  \n",
            " 852  DOLELSPH            float64\n",
            " 853  DOLELCOL            float64\n",
            " 854  DOLELWTH            float64\n",
            " 855  DOLELRFG            float64\n",
            " 856  DOLELOTH            float64\n",
            " 857  CUFEETNG            int64  \n",
            " 858  CUFEETNGSPH         float64\n",
            " 859  CUFEETNGWTH         float64\n",
            " 860  CUFEETNGOTH         float64\n",
            " 861  BTUNG               int64  \n",
            " 862  BTUNGSPH            float64\n",
            " 863  BTUNGWTH            float64\n",
            " 864  BTUNGOTH            float64\n",
            " 865  DOLLARNG            int64  \n",
            " 866  DOLNGSPH            float64\n",
            " 867  DOLNGWTH            float64\n",
            " 868  DOLNGOTH            float64\n",
            " 869  GALLONLP            int64  \n",
            " 870  GALLONLPSPH         float64\n",
            " 871  GALLONLPWTH         float64\n",
            " 872  GALLONLPOTH         float64\n",
            " 873  BTULP               int64  \n",
            " 874  BTULPSPH            float64\n",
            " 875  BTULPWTH            float64\n",
            " 876  BTULPOTH            float64\n",
            " 877  DOLLARLP            int64  \n",
            " 878  DOLLPSPH            float64\n",
            " 879  DOLLPWTH            float64\n",
            " 880  DOLLPOTH            float64\n",
            " 881  GALLONFO            int64  \n",
            " 882  GALLONFOSPH         float64\n",
            " 883  GALLONFOWTH         float64\n",
            " 884  GALLONFOOTH         float64\n",
            " 885  BTUFO               int64  \n",
            " 886  BTUFOSPH            float64\n",
            " 887  BTUFOWTH            float64\n",
            " 888  BTUFOOTH            float64\n",
            " 889  DOLLARFO            int64  \n",
            " 890  DOLFOSPH            float64\n",
            " 891  DOLFOWTH            float64\n",
            " 892  DOLFOOTH            float64\n",
            " 893  GALLONKER           int64  \n",
            " 894  GALLONKERSPH        int64  \n",
            " 895  GALLONKERWTH        int64  \n",
            " 896  GALLONKEROTH        int64  \n",
            " 897  BTUKER              int64  \n",
            " 898  BTUKERSPH           float64\n",
            " 899  BTUKERWTH           int64  \n",
            " 900  BTUKEROTH           float64\n",
            " 901  DOLLARKER           int64  \n",
            " 902  DOLKERSPH           float64\n",
            " 903  DOLKERWTH           int64  \n",
            " 904  DOLKEROTH           float64\n",
            " 905  BTUWOOD             int64  \n",
            " 906  CORDSWD             float64\n",
            " 907  TOTALBTU            int64  \n",
            " 908  TOTALBTUSPH         int64  \n",
            " 909  TOTALBTUCOL         int64  \n",
            " 910  TOTALBTUWTH         int64  \n",
            " 911  TOTALBTURFG         int64  \n",
            " 912  TOTALBTUOTH         int64  \n",
            " 913  TOTALDOL            int64  \n",
            " 914  TOTALDOLSPH         int64  \n",
            " 915  TOTALDOLCOL         int64  \n",
            " 916  TOTALDOLWTH         int64  \n",
            " 917  TOTALDOLRFG         int64  \n",
            " 918  TOTALDOLOTH         int64  \n",
            " 919  KAVALEL             int64  \n",
            " 920  PERIODEL            int64  \n",
            " 921  SCALEEL             int64  \n",
            " 922  KAVALNG             int64  \n",
            " 923  PERIODNG            int64  \n",
            " 924  SCALENG             int64  \n",
            " 925  PERIODLP            int64  \n",
            " 926  SCALELP             int64  \n",
            " 927  PERIODFO            int64  \n",
            " 928  SCALEFO             int64  \n",
            " 929  PERIODKR            int64  \n",
            " 930  SCALEKER            int64  \n",
            " 931  IECC_Climate_Pub    object \n",
            " 932  HDD50               int64  \n",
            " 933  CDD80               int64  \n",
            " 934  GND_HDD65           int64  \n",
            " 935  WSF                 float64\n",
            " 936  OA_LAT              int64  \n",
            " 937  GWT                 int64  \n",
            " 938  DesignDBT99         int64  \n",
            " 939  DesignDBT1          int64  \n",
            "dtypes: float64(50), int64(885), object(5)\n",
            "memory usage: 86.7+ MB\n"
          ]
        }
      ],
      "source": [
        "data_public.info(verbose = True)"
      ]
    },
    {
      "cell_type": "code",
      "execution_count": null,
      "id": "72ef7a6f",
      "metadata": {
        "colab": {
          "base_uri": "https://localhost:8080/"
        },
        "id": "72ef7a6f",
        "outputId": "a0ae426e-64ee-4f5d-ec68-58d79c5aed06"
      },
      "outputs": [
        {
          "output_type": "execute_result",
          "data": {
            "text/plain": [
              "(12083, 940)"
            ]
          },
          "metadata": {},
          "execution_count": 6
        }
      ],
      "source": [
        "data_public.shape"
      ]
    },
    {
      "cell_type": "code",
      "execution_count": null,
      "id": "55da6388",
      "metadata": {
        "colab": {
          "base_uri": "https://localhost:8080/",
          "height": 206
        },
        "id": "55da6388",
        "outputId": "b2ca163e-b64f-490a-eb81-7513a61967b6"
      },
      "outputs": [
        {
          "output_type": "execute_result",
          "data": {
            "text/plain": [
              "       Variable Name                          Variable Label  \\\n",
              "0              DOEID   Unique identifier for each respondent   \n",
              "1            REGIONC                           Census Region   \n",
              "2           DIVISION                         Census Division   \n",
              "3  REPORTABLE_DOMAIN  Reportable states and groups of states   \n",
              "4            TYPEHUQ                    Type of housing unit   \n",
              "\n",
              "   Variable Order in File Variable Type  Length  \n",
              "0                       1     Character       5  \n",
              "1                       2       Numeric       8  \n",
              "2                       3       Numeric       8  \n",
              "3                       4       Numeric       8  \n",
              "4                       5       Numeric       8  "
            ],
            "text/html": [
              "\n",
              "  <div id=\"df-e6e0f8a4-b293-45a8-ab4e-60c4e45d786e\">\n",
              "    <div class=\"colab-df-container\">\n",
              "      <div>\n",
              "<style scoped>\n",
              "    .dataframe tbody tr th:only-of-type {\n",
              "        vertical-align: middle;\n",
              "    }\n",
              "\n",
              "    .dataframe tbody tr th {\n",
              "        vertical-align: top;\n",
              "    }\n",
              "\n",
              "    .dataframe thead th {\n",
              "        text-align: right;\n",
              "    }\n",
              "</style>\n",
              "<table border=\"1\" class=\"dataframe\">\n",
              "  <thead>\n",
              "    <tr style=\"text-align: right;\">\n",
              "      <th></th>\n",
              "      <th>Variable Name</th>\n",
              "      <th>Variable Label</th>\n",
              "      <th>Variable Order in File</th>\n",
              "      <th>Variable Type</th>\n",
              "      <th>Length</th>\n",
              "    </tr>\n",
              "  </thead>\n",
              "  <tbody>\n",
              "    <tr>\n",
              "      <th>0</th>\n",
              "      <td>DOEID</td>\n",
              "      <td>Unique identifier for each respondent</td>\n",
              "      <td>1</td>\n",
              "      <td>Character</td>\n",
              "      <td>5</td>\n",
              "    </tr>\n",
              "    <tr>\n",
              "      <th>1</th>\n",
              "      <td>REGIONC</td>\n",
              "      <td>Census Region</td>\n",
              "      <td>2</td>\n",
              "      <td>Numeric</td>\n",
              "      <td>8</td>\n",
              "    </tr>\n",
              "    <tr>\n",
              "      <th>2</th>\n",
              "      <td>DIVISION</td>\n",
              "      <td>Census Division</td>\n",
              "      <td>3</td>\n",
              "      <td>Numeric</td>\n",
              "      <td>8</td>\n",
              "    </tr>\n",
              "    <tr>\n",
              "      <th>3</th>\n",
              "      <td>REPORTABLE_DOMAIN</td>\n",
              "      <td>Reportable states and groups of states</td>\n",
              "      <td>4</td>\n",
              "      <td>Numeric</td>\n",
              "      <td>8</td>\n",
              "    </tr>\n",
              "    <tr>\n",
              "      <th>4</th>\n",
              "      <td>TYPEHUQ</td>\n",
              "      <td>Type of housing unit</td>\n",
              "      <td>5</td>\n",
              "      <td>Numeric</td>\n",
              "      <td>8</td>\n",
              "    </tr>\n",
              "  </tbody>\n",
              "</table>\n",
              "</div>\n",
              "      <button class=\"colab-df-convert\" onclick=\"convertToInteractive('df-e6e0f8a4-b293-45a8-ab4e-60c4e45d786e')\"\n",
              "              title=\"Convert this dataframe to an interactive table.\"\n",
              "              style=\"display:none;\">\n",
              "        \n",
              "  <svg xmlns=\"http://www.w3.org/2000/svg\" height=\"24px\"viewBox=\"0 0 24 24\"\n",
              "       width=\"24px\">\n",
              "    <path d=\"M0 0h24v24H0V0z\" fill=\"none\"/>\n",
              "    <path d=\"M18.56 5.44l.94 2.06.94-2.06 2.06-.94-2.06-.94-.94-2.06-.94 2.06-2.06.94zm-11 1L8.5 8.5l.94-2.06 2.06-.94-2.06-.94L8.5 2.5l-.94 2.06-2.06.94zm10 10l.94 2.06.94-2.06 2.06-.94-2.06-.94-.94-2.06-.94 2.06-2.06.94z\"/><path d=\"M17.41 7.96l-1.37-1.37c-.4-.4-.92-.59-1.43-.59-.52 0-1.04.2-1.43.59L10.3 9.45l-7.72 7.72c-.78.78-.78 2.05 0 2.83L4 21.41c.39.39.9.59 1.41.59.51 0 1.02-.2 1.41-.59l7.78-7.78 2.81-2.81c.8-.78.8-2.07 0-2.86zM5.41 20L4 18.59l7.72-7.72 1.47 1.35L5.41 20z\"/>\n",
              "  </svg>\n",
              "      </button>\n",
              "      \n",
              "  <style>\n",
              "    .colab-df-container {\n",
              "      display:flex;\n",
              "      flex-wrap:wrap;\n",
              "      gap: 12px;\n",
              "    }\n",
              "\n",
              "    .colab-df-convert {\n",
              "      background-color: #E8F0FE;\n",
              "      border: none;\n",
              "      border-radius: 50%;\n",
              "      cursor: pointer;\n",
              "      display: none;\n",
              "      fill: #1967D2;\n",
              "      height: 32px;\n",
              "      padding: 0 0 0 0;\n",
              "      width: 32px;\n",
              "    }\n",
              "\n",
              "    .colab-df-convert:hover {\n",
              "      background-color: #E2EBFA;\n",
              "      box-shadow: 0px 1px 2px rgba(60, 64, 67, 0.3), 0px 1px 3px 1px rgba(60, 64, 67, 0.15);\n",
              "      fill: #174EA6;\n",
              "    }\n",
              "\n",
              "    [theme=dark] .colab-df-convert {\n",
              "      background-color: #3B4455;\n",
              "      fill: #D2E3FC;\n",
              "    }\n",
              "\n",
              "    [theme=dark] .colab-df-convert:hover {\n",
              "      background-color: #434B5C;\n",
              "      box-shadow: 0px 1px 3px 1px rgba(0, 0, 0, 0.15);\n",
              "      filter: drop-shadow(0px 1px 2px rgba(0, 0, 0, 0.3));\n",
              "      fill: #FFFFFF;\n",
              "    }\n",
              "  </style>\n",
              "\n",
              "      <script>\n",
              "        const buttonEl =\n",
              "          document.querySelector('#df-e6e0f8a4-b293-45a8-ab4e-60c4e45d786e button.colab-df-convert');\n",
              "        buttonEl.style.display =\n",
              "          google.colab.kernel.accessAllowed ? 'block' : 'none';\n",
              "\n",
              "        async function convertToInteractive(key) {\n",
              "          const element = document.querySelector('#df-e6e0f8a4-b293-45a8-ab4e-60c4e45d786e');\n",
              "          const dataTable =\n",
              "            await google.colab.kernel.invokeFunction('convertToInteractive',\n",
              "                                                     [key], {});\n",
              "          if (!dataTable) return;\n",
              "\n",
              "          const docLinkHtml = 'Like what you see? Visit the ' +\n",
              "            '<a target=\"_blank\" href=https://colab.research.google.com/notebooks/data_table.ipynb>data table notebook</a>'\n",
              "            + ' to learn more about interactive tables.';\n",
              "          element.innerHTML = '';\n",
              "          dataTable['output_type'] = 'display_data';\n",
              "          await google.colab.output.renderOutput(dataTable, element);\n",
              "          const docLink = document.createElement('div');\n",
              "          docLink.innerHTML = docLinkHtml;\n",
              "          element.appendChild(docLink);\n",
              "        }\n",
              "      </script>\n",
              "    </div>\n",
              "  </div>\n",
              "  "
            ]
          },
          "metadata": {},
          "execution_count": 6
        }
      ],
      "source": [
        "data_layout.head()"
      ]
    },
    {
      "cell_type": "code",
      "execution_count": null,
      "id": "4cf5ba9f",
      "metadata": {
        "colab": {
          "base_uri": "https://localhost:8080/"
        },
        "id": "4cf5ba9f",
        "outputId": "d6055f3d-e39d-4c13-a535-9e8fa58f7033"
      },
      "outputs": [
        {
          "output_type": "execute_result",
          "data": {
            "text/plain": [
              "Index(['Variable Name', 'Variable Label', 'Variable Order in File',\n",
              "       'Variable Type', 'Length'],\n",
              "      dtype='object')"
            ]
          },
          "metadata": {},
          "execution_count": 7
        }
      ],
      "source": [
        "data_cols = data_layout.columns\n",
        "data_cols"
      ]
    },
    {
      "cell_type": "markdown",
      "source": [
        "# 2. Data Preparation"
      ],
      "metadata": {
        "id": "VVvosVW9lw7K"
      },
      "id": "VVvosVW9lw7K"
    },
    {
      "cell_type": "code",
      "execution_count": null,
      "id": "145fda34",
      "metadata": {
        "colab": {
          "base_uri": "https://localhost:8080/"
        },
        "id": "145fda34",
        "outputId": "316a63e9-f047-4b9b-df43-c16b86e6c961"
      },
      "outputs": [
        {
          "output_type": "stream",
          "name": "stdout",
          "text": [
            "Categorical columns: []\n",
            "Object columns: ['METROMICRO', 'UR', 'NOCRCASH', 'NKRGALNC', 'IECC_Climate_Pub']\n"
          ]
        }
      ],
      "source": [
        "# Find the columns with datatype as category and object\n",
        "\n",
        "def cat_or_obj(df):\n",
        "  category_columns = df.select_dtypes(include=['category']).columns.tolist()\n",
        "  object_columns = df.select_dtypes(include=['object']).columns.tolist()\n",
        "  print(\"Categorical columns:\" , category_columns )\n",
        "  print(\"Object columns:\" , object_columns )\n",
        "  return category_columns, object_columns\n",
        "\n",
        "\n",
        "cat_col, obj_col = cat_or_obj(data_public)"
      ]
    },
    {
      "cell_type": "code",
      "source": [
        "# One Hot Encoding the categorical columns\n",
        "\n",
        "def one_hot_encode(df):\n",
        "  df = pd.get_dummies(df, columns = df.select_dtypes(include=[\"object\", \"category\"]).columns.tolist(),  drop_first=True)\n",
        "  return df\n",
        "\n",
        "data_public = one_hot_encode(data_public)\n",
        "data_public.shape"
      ],
      "metadata": {
        "colab": {
          "base_uri": "https://localhost:8080/"
        },
        "id": "jJZEjsOJAbcu",
        "outputId": "c9eeeccf-ba93-4748-af6a-7420505f6fd7"
      },
      "id": "jJZEjsOJAbcu",
      "execution_count": null,
      "outputs": [
        {
          "output_type": "execute_result",
          "data": {
            "text/plain": [
              "(12083, 978)"
            ]
          },
          "metadata": {},
          "execution_count": 9
        }
      ]
    },
    {
      "cell_type": "code",
      "execution_count": null,
      "id": "19a7e95e",
      "metadata": {
        "colab": {
          "base_uri": "https://localhost:8080/"
        },
        "id": "19a7e95e",
        "outputId": "509d71b5-d9c5-45f4-8054-828e9fe84fd6"
      },
      "outputs": [
        {
          "output_type": "execute_result",
          "data": {
            "text/plain": [
              "(12083, 978)"
            ]
          },
          "metadata": {},
          "execution_count": 10
        }
      ],
      "source": [
        "data_public.shape"
      ]
    },
    {
      "cell_type": "code",
      "execution_count": null,
      "id": "ea3e874f",
      "metadata": {
        "scrolled": true,
        "id": "ea3e874f"
      },
      "outputs": [],
      "source": [
        "# Function for finding the NaN columns\n",
        "\n",
        "def nan_cols(df):\n",
        "  nan_columns = [n for n in data_public.columns if data_public[n].isnull().any()]\n",
        "  print(\"NaN Columns: \", nan_columns)\n",
        "  return nan_columns\n",
        "\n",
        "# Function for finding columns with NaN values being greater than 95% of the total values of the column\n",
        "\n",
        "def majority_nan_cols(df):\n",
        "  length_of_dataset = len(df)\n",
        "  col_many_nan = (df.columns[(((df.isna().sum() / length_of_dataset) *100) > 95) == True])\n",
        "  print(\"Number of columns with more than 95% NaN values: \", len(col_many_nan))\n",
        "  return col_many_nan"
      ]
    },
    {
      "cell_type": "code",
      "execution_count": null,
      "id": "4d105ce0",
      "metadata": {
        "colab": {
          "base_uri": "https://localhost:8080/"
        },
        "id": "4d105ce0",
        "outputId": "0427728f-162c-43ff-d121-5df66c648040"
      },
      "outputs": [
        {
          "output_type": "stream",
          "name": "stdout",
          "text": [
            "NaN Columns:  []\n",
            "0\n"
          ]
        }
      ],
      "source": [
        "# Check for nan columns or values\n",
        "nan_columns = nan_cols(data_public)  \n",
        "print(len(nan_columns))"
      ]
    },
    {
      "cell_type": "code",
      "execution_count": null,
      "id": "58fc1adb",
      "metadata": {
        "id": "58fc1adb"
      },
      "outputs": [],
      "source": [
        "# Replace -2 with np.nan as the none values are represented as -2 in the data as per the data-codebook\n",
        "\n",
        "data_public.replace(to_replace = -2, value = np.nan, inplace = True)"
      ]
    },
    {
      "cell_type": "markdown",
      "source": [
        "Now there are many columns with NaN values. Finding columns with nan values > 95% of the data"
      ],
      "metadata": {
        "id": "lAg7_kdUIo5B"
      },
      "id": "lAg7_kdUIo5B"
    },
    {
      "cell_type": "code",
      "execution_count": null,
      "id": "9c8d9ef4",
      "metadata": {
        "colab": {
          "base_uri": "https://localhost:8080/"
        },
        "id": "9c8d9ef4",
        "outputId": "bbad7b03-bf8e-40bd-d63d-1271ab12662f"
      },
      "outputs": [
        {
          "output_type": "stream",
          "name": "stdout",
          "text": [
            "Number of columns with more than 95% NaN values:  72\n"
          ]
        }
      ],
      "source": [
        "col_many_nan = majority_nan_cols(data_public)"
      ]
    },
    {
      "cell_type": "markdown",
      "source": [
        "*   Columns starting with 'Z' are the imputation flags for other variables. So are to be removed as they will not contrubute in the prediction.\n",
        "*   Columns with thermal unit other than KWH are assumend to be not helpful. Hence are removed. \n",
        "*   Columns which show the total consumptions of elements' electricity usage are redundant as the individual contributions by those elements are already present in the data. Hence are removed for avoiding data redundancy.\n",
        "\n",
        "\n",
        "\n"
      ],
      "metadata": {
        "id": "MJjGCNUaI63i"
      },
      "id": "MJjGCNUaI63i"
    },
    {
      "cell_type": "code",
      "execution_count": null,
      "id": "44dac13f",
      "metadata": {
        "id": "44dac13f"
      },
      "outputs": [],
      "source": [
        "# Columns starting with 'Z' are the imputation flags for other variables\n",
        "columns_z = data_layout.loc[data_layout['Variable Name'].str.contains(pat = '^Z')]['Variable Name'].tolist()\n",
        "\n",
        "# Variables with differenct thermal unit\n",
        "columns_BTU_unit = data_layout.loc[data_layout['Variable Label'].str.contains(\"BTU\", case=False)]['Variable Name'].tolist()\n",
        "\n",
        "# Other Variables havibg total consumption data\n",
        "columns_similar = ['KWHSPH', 'KWHCOL', 'KWHWTH', 'KWHRFG', 'KWHOTH']"
      ]
    },
    {
      "cell_type": "code",
      "execution_count": null,
      "id": "6b67b915",
      "metadata": {
        "id": "6b67b915"
      },
      "outputs": [],
      "source": [
        "# Columns to be removed\n",
        "col_to_remove = columns_BTU_unit + columns_z + col_many_nan.to_list() + columns_similar"
      ]
    },
    {
      "cell_type": "code",
      "execution_count": null,
      "id": "3ce5d91f",
      "metadata": {
        "id": "3ce5d91f"
      },
      "outputs": [],
      "source": [
        "# Function for removing unwanted columns\n",
        "\n",
        "def del_cols(df, col_to_remove):\n",
        "  df = df.drop(col_to_remove, axis = 1, inplace=False)\n",
        "  return df\n",
        "\n",
        "# Removing the unwanted columns\n",
        "data_public = del_cols(data_public, col_to_remove)"
      ]
    },
    {
      "cell_type": "code",
      "execution_count": null,
      "id": "2eb01f0c",
      "metadata": {
        "colab": {
          "base_uri": "https://localhost:8080/"
        },
        "id": "2eb01f0c",
        "outputId": "7d16dc30-511f-45e9-8c2a-bbd7433b997d"
      },
      "outputs": [
        {
          "output_type": "stream",
          "name": "stdout",
          "text": [
            "<class 'pandas.core.frame.DataFrame'>\n",
            "RangeIndex: 12083 entries, 0 to 12082\n",
            "Data columns (total 512 columns):\n",
            " #    Column                          Dtype  \n",
            "---   ------                          -----  \n",
            " 0    DOEID                           int64  \n",
            " 1    REGIONC                         int64  \n",
            " 2    DIVISION                        int64  \n",
            " 3    REPORTABLE_DOMAIN               int64  \n",
            " 4    TYPEHUQ                         int64  \n",
            " 5    NWEIGHT                         float64\n",
            " 6    HDD65                           int64  \n",
            " 7    CDD65                           int64  \n",
            " 8    HDD30YR                         int64  \n",
            " 9    CDD30YR                         int64  \n",
            " 10   Climate_Region_Pub              int64  \n",
            " 11   AIA_Zone                        int64  \n",
            " 12   KOWNRENT                        int64  \n",
            " 13   CONDCOOP                        float64\n",
            " 14   YEARMADE                        int64  \n",
            " 15   YEARMADERANGE                   int64  \n",
            " 16   OCCUPYYRANGE                    int64  \n",
            " 17   CONVERSION                      float64\n",
            " 18   NUMFLRS                         float64\n",
            " 19   NUMAPTS                         float64\n",
            " 20   WALLTYPE                        int64  \n",
            " 21   ROOFTYPE                        float64\n",
            " 22   STUDIO                          float64\n",
            " 23   NAPTFLRS                        float64\n",
            " 24   STORIES                         float64\n",
            " 25   BEDROOMS                        float64\n",
            " 26   NCOMBATH                        int64  \n",
            " 27   NHAFBATH                        int64  \n",
            " 28   OTHROOMS                        int64  \n",
            " 29   TOTROOMS                        int64  \n",
            " 30   CELLAR                          float64\n",
            " 31   CRAWL                           float64\n",
            " 32   CONCRETE                        float64\n",
            " 33   BASEFIN                         float64\n",
            " 34   FINBASERMS                      float64\n",
            " 35   BASEHEAT                        float64\n",
            " 36   BASEHT2                         float64\n",
            " 37   PCTBSTHT                        float64\n",
            " 38   BASECOOL                        float64\n",
            " 39   BASECL2                         float64\n",
            " 40   BASEUSE                         float64\n",
            " 41   ATTIC                           float64\n",
            " 42   ATTICFIN                        float64\n",
            " 43   ATTCHEAT                        float64\n",
            " 44   ATTCCOOL                        float64\n",
            " 45   ATTICUSE                        float64\n",
            " 46   PRKGPLC1                        float64\n",
            " 47   SIZEOFGARAGE                    float64\n",
            " 48   GARGLOC                         float64\n",
            " 49   GARGHEAT                        float64\n",
            " 50   GARGCOOL                        float64\n",
            " 51   PRKGPLC2                        float64\n",
            " 52   SIZEOFDETACH                    float64\n",
            " 53   OUTLET                          float64\n",
            " 54   STOVEN                          int64  \n",
            " 55   STOVENFUEL                      float64\n",
            " 56   STOVE                           int64  \n",
            " 57   STOVEFUEL                       float64\n",
            " 58   OVEN                            int64  \n",
            " 59   OVENFUEL                        float64\n",
            " 60   OVENUSE                         float64\n",
            " 61   OVENCLN                         float64\n",
            " 62   TYPECLN                         float64\n",
            " 63   MICRO                           int64  \n",
            " 64   AMTMICRO                        float64\n",
            " 65   DEFROST                         float64\n",
            " 66   OUTGRILL                        int64  \n",
            " 67   OUTGRILLFUEL                    float64\n",
            " 68   TOPGRILL                        int64  \n",
            " 69   TOASTER                         int64  \n",
            " 70   NUMMEAL                         int64  \n",
            " 71   FUELFOOD                        float64\n",
            " 72   COFFEE                          int64  \n",
            " 73   NUMFRIG                         int64  \n",
            " 74   TYPERFR1                        float64\n",
            " 75   SIZRFRI1                        float64\n",
            " 76   REFRIGT1                        float64\n",
            " 77   ICE                             float64\n",
            " 78   AGERFRI1                        float64\n",
            " 79   ESFRIG                          float64\n",
            " 80   REPLCFRI                        float64\n",
            " 81   HELPFRI                         float64\n",
            " 82   TYPERFR2                        float64\n",
            " 83   SIZRFRI2                        float64\n",
            " 84   REFRIGT2                        float64\n",
            " 85   MONRFRI2                        float64\n",
            " 86   AGERFRI2                        float64\n",
            " 87   ESFRIG2                         float64\n",
            " 88   SEPFREEZ                        int64  \n",
            " 89   NUMFREEZ                        float64\n",
            " 90   UPRTFRZR                        float64\n",
            " 91   SIZFREEZ                        float64\n",
            " 92   FREEZER                         float64\n",
            " 93   AGEFRZR                         float64\n",
            " 94   REPLCFRZ                        float64\n",
            " 95   HELPFRZ                         float64\n",
            " 96   DISHWASH                        int64  \n",
            " 97   DWASHUSE                        float64\n",
            " 98   AGEDW                           float64\n",
            " 99   ESDISHW                         float64\n",
            " 100  REPLCDW                         float64\n",
            " 101  HELPDW                          float64\n",
            " 102  CWASHER                         int64  \n",
            " 103  TOPFRONT                        float64\n",
            " 104  WASHLOAD                        float64\n",
            " 105  WASHTEMP                        float64\n",
            " 106  RNSETEMP                        float64\n",
            " 107  AGECWASH                        float64\n",
            " 108  ESCWASH                         float64\n",
            " 109  REPLCCW                         float64\n",
            " 110  HELPCW                          float64\n",
            " 111  DRYER                           int64  \n",
            " 112  DRYRFUEL                        float64\n",
            " 113  DRYRUSE                         float64\n",
            " 114  AGECDRYER                       float64\n",
            " 115  TVCOLOR                         int64  \n",
            " 116  TVSIZE1                         float64\n",
            " 117  TVTYPE1                         float64\n",
            " 118  CABLESAT1                       float64\n",
            " 119  COMBODVR1                       float64\n",
            " 120  DVR1                            float64\n",
            " 121  DIGITSTB1                       float64\n",
            " 122  PLAYSTA1                        float64\n",
            " 123  COMBOVCRDVD1                    float64\n",
            " 124  VCR1                            float64\n",
            " 125  DVD1                            float64\n",
            " 126  TVAUDIOSYS1                     float64\n",
            " 127  OTHERSTB1                       float64\n",
            " 128  TVONWD1                         float64\n",
            " 129  TVONWDWATCH1                    float64\n",
            " 130  TVONWE1                         float64\n",
            " 131  TVONWEWATCH1                    float64\n",
            " 132  TVSIZE2                         float64\n",
            " 133  TVTYPE2                         float64\n",
            " 134  CABLESAT2                       float64\n",
            " 135  COMBODVR2                       float64\n",
            " 136  DVR2                            float64\n",
            " 137  DIGITSTB2                       float64\n",
            " 138  PLAYSTA2                        float64\n",
            " 139  COMBOVCRDVD2                    float64\n",
            " 140  VCR2                            float64\n",
            " 141  DVD2                            float64\n",
            " 142  TVAUDIOSYS2                     float64\n",
            " 143  OTHERSTB2                       float64\n",
            " 144  TVONWD2                         float64\n",
            " 145  TVONWDWATCH2                    float64\n",
            " 146  TVONWE2                         float64\n",
            " 147  TVONWEWATCH2                    float64\n",
            " 148  TVSIZE3                         float64\n",
            " 149  TVTYPE3                         float64\n",
            " 150  CABLESAT3                       float64\n",
            " 151  COMBODVR3                       float64\n",
            " 152  DVR3                            float64\n",
            " 153  DIGITSTB3                       float64\n",
            " 154  PLAYSTA3                        float64\n",
            " 155  COMBOVCRDVD3                    float64\n",
            " 156  VCR3                            float64\n",
            " 157  DVD3                            float64\n",
            " 158  TVAUDIOSYS3                     float64\n",
            " 159  OTHERSTB3                       float64\n",
            " 160  TVONWD3                         float64\n",
            " 161  TVONWDWATCH3                    float64\n",
            " 162  TVONWE3                         float64\n",
            " 163  TVONWEWATCH3                    float64\n",
            " 164  COMPUTER                        int64  \n",
            " 165  NUMPC                           int64  \n",
            " 166  PCTYPE1                         float64\n",
            " 167  MONITOR1                        float64\n",
            " 168  TIMEON1                         float64\n",
            " 169  PCONOFF1                        float64\n",
            " 170  PCSLEEP1                        float64\n",
            " 171  PCTYPE2                         float64\n",
            " 172  MONITOR2                        float64\n",
            " 173  TIMEON2                         float64\n",
            " 174  PCONOFF2                        float64\n",
            " 175  PCSLEEP2                        float64\n",
            " 176  PCTYPE3                         float64\n",
            " 177  MONITOR3                        float64\n",
            " 178  TIMEON3                         float64\n",
            " 179  PCONOFF3                        float64\n",
            " 180  INTERNET                        float64\n",
            " 181  INDIALUP                        float64\n",
            " 182  INDSL                           float64\n",
            " 183  INCABLE                         float64\n",
            " 184  INSATEL                         float64\n",
            " 185  INWIRELESS                      float64\n",
            " 186  PCPRINT                         float64\n",
            " 187  FAX                             int64  \n",
            " 188  COPIER                          int64  \n",
            " 189  WELLPUMP                        float64\n",
            " 190  DIPSTICK                        float64\n",
            " 191  SWAMPCOL                        float64\n",
            " 192  AQUARIUM                        int64  \n",
            " 193  STEREO                          int64  \n",
            " 194  NOCORD                          int64  \n",
            " 195  ANSMACH                         int64  \n",
            " 196  BATTOOLS                        int64  \n",
            " 197  BATCHRG                         float64\n",
            " 198  CHRGPLGT                        float64\n",
            " 199  ELECDEV                         int64  \n",
            " 200  ELECCHRG                        float64\n",
            " 201  CHRGPLGE                        float64\n",
            " 202  HEATHOME                        int64  \n",
            " 203  EQUIPM                          float64\n",
            " 204  FUELHEAT                        float64\n",
            " 205  MAINTHT                         float64\n",
            " 206  EQUIPAGE                        float64\n",
            " 207  REPLCHT                         float64\n",
            " 208  HELPHT                          float64\n",
            " 209  HEATOTH                         float64\n",
            " 210  EQUIPAUX                        float64\n",
            " 211  REVERSE                         float64\n",
            " 212  WARMAIR                         float64\n",
            " 213  STEAMR                          float64\n",
            " 214  PERMELEC                        float64\n",
            " 215  PIPELESS                        float64\n",
            " 216  ROOMHEAT                        float64\n",
            " 217  WOODKILN                        float64\n",
            " 218  CARRYEL                         float64\n",
            " 219  CARRYKER                        float64\n",
            " 220  CHIMNEY                         float64\n",
            " 221  FPFUEL                          float64\n",
            " 222  NGFPFLUE                        float64\n",
            " 223  USENGFP                         float64\n",
            " 224  RANGE                           float64\n",
            " 225  DIFEQUIP                        float64\n",
            " 226  EQMAMT                          float64\n",
            " 227  HEATROOM                        float64\n",
            " 228  THERMAIN                        float64\n",
            " 229  NUMTHERM                        float64\n",
            " 230  PROTHERM                        float64\n",
            " 231  AUTOHEATNITE                    float64\n",
            " 232  AUTOHEATDAY                     float64\n",
            " 233  TEMPHOME                        float64\n",
            " 234  TEMPGONE                        float64\n",
            " 235  TEMPNITE                        float64\n",
            " 236  MOISTURE                        int64  \n",
            " 237  USEMOISTURE                     float64\n",
            " 238  NUMH2ONOTNK                     int64  \n",
            " 239  NUMH2OHTRS                      int64  \n",
            " 240  H2OTYPE1                        float64\n",
            " 241  FUELH2O                         float64\n",
            " 242  WHEATOTH                        float64\n",
            " 243  WHEATSIZ                        float64\n",
            " 244  WHEATAGE                        float64\n",
            " 245  WHEATBKT                        float64\n",
            " 246  HELPWH                          float64\n",
            " 247  AIRCOND                         int64  \n",
            " 248  DNTAC                           float64\n",
            " 249  COOLTYPE                        float64\n",
            " 250  CENACHP                         float64\n",
            " 251  ACOTHERS                        float64\n",
            " 252  MAINTAC                         float64\n",
            " 253  AGECENAC                        float64\n",
            " 254  REPLCCAC                        float64\n",
            " 255  HELPCAC                         float64\n",
            " 256  ACROOMS                         float64\n",
            " 257  USECENAC                        float64\n",
            " 258  THERMAINAC                      float64\n",
            " 259  PROTHERMAC                      float64\n",
            " 260  AUTOCOOLNITE                    float64\n",
            " 261  AUTOCOOLDAY                     float64\n",
            " 262  TEMPHOMEAC                      float64\n",
            " 263  TEMPGONEAC                      float64\n",
            " 264  TEMPNITEAC                      float64\n",
            " 265  NUMBERAC                        float64\n",
            " 266  WWACAGE                         float64\n",
            " 267  ESWWAC                          float64\n",
            " 268  REPLCWWAC                       float64\n",
            " 269  HELPWWAC                        float64\n",
            " 270  USEWWAC                         float64\n",
            " 271  NUMCFAN                         int64  \n",
            " 272  USECFAN                         float64\n",
            " 273  TREESHAD                        int64  \n",
            " 274  NOTMOIST                        int64  \n",
            " 275  USENOTMOIST                     float64\n",
            " 276  HIGHCEIL                        float64\n",
            " 277  CATHCEIL                        float64\n",
            " 278  SWIMPOOL                        float64\n",
            " 279  POOL                            float64\n",
            " 280  RECBATH                         int64  \n",
            " 281  FUELTUB                         float64\n",
            " 282  LGT12                           int64  \n",
            " 283  LGT12EE                         float64\n",
            " 284  LGT4                            int64  \n",
            " 285  LGT4EE                          float64\n",
            " 286  LGT1                            int64  \n",
            " 287  LGT1EE                          float64\n",
            " 288  NOUTLGTNT                       float64\n",
            " 289  LGTOEE                          float64\n",
            " 290  NGASLIGHT                       float64\n",
            " 291  INSTLCFL                        float64\n",
            " 292  HELPCFL                         float64\n",
            " 293  SLDDRS                          int64  \n",
            " 294  DOOR1SUM                        int64  \n",
            " 295  WINDOWS                         int64  \n",
            " 296  TYPEGLASS                       float64\n",
            " 297  NEWGLASS                        float64\n",
            " 298  HELPWIN                         float64\n",
            " 299  ADQINSUL                        int64  \n",
            " 300  INSTLINS                        int64  \n",
            " 301  AGEINS                          float64\n",
            " 302  HELPINS                         float64\n",
            " 303  DRAFTY                          int64  \n",
            " 304  INSTLWS                         int64  \n",
            " 305  AGEWS                           float64\n",
            " 306  HELPWS                          float64\n",
            " 307  AUDIT                           int64  \n",
            " 308  USEEL                           int64  \n",
            " 309  USENG                           int64  \n",
            " 310  USELP                           int64  \n",
            " 311  USEFO                           int64  \n",
            " 312  USEKERO                         int64  \n",
            " 313  USEWOOD                         int64  \n",
            " 314  USESOLAR                        int64  \n",
            " 315  USEOTH                          int64  \n",
            " 316  ELWARM                          int64  \n",
            " 317  ELECAUX                         int64  \n",
            " 318  ELCOOL                          int64  \n",
            " 319  ELWATER                         int64  \n",
            " 320  ELFOOD                          int64  \n",
            " 321  ELOTHER                         int64  \n",
            " 322  UGWARM                          int64  \n",
            " 323  UGASAUX                         int64  \n",
            " 324  UGWATER                         int64  \n",
            " 325  UGCOOK                          int64  \n",
            " 326  UGOTH                           int64  \n",
            " 327  LPWARM                          int64  \n",
            " 328  LPGAUX                          int64  \n",
            " 329  LPWATER                         int64  \n",
            " 330  LPCOOK                          int64  \n",
            " 331  LPOTHER                         int64  \n",
            " 332  FOWARM                          int64  \n",
            " 333  FOILAUX                         int64  \n",
            " 334  FOWATER                         int64  \n",
            " 335  FOOTHER                         int64  \n",
            " 336  KRWARM                          int64  \n",
            " 337  KEROAUX                         int64  \n",
            " 338  KRWATER                         int64  \n",
            " 339  KROTHER                         int64  \n",
            " 340  WDWARM                          int64  \n",
            " 341  WOODAUX                         int64  \n",
            " 342  WDWATER                         int64  \n",
            " 343  WDOTHUSE                        int64  \n",
            " 344  SOLWARM                         int64  \n",
            " 345  SOLARAUX                        int64  \n",
            " 346  SOLWATER                        int64  \n",
            " 347  SOLOTHER                        int64  \n",
            " 348  OTHWARM                         int64  \n",
            " 349  OTHERAUX                        int64  \n",
            " 350  OTHWATER                        int64  \n",
            " 351  OTHCOOK                         int64  \n",
            " 352  ONSITE                          int64  \n",
            " 353  PELHEAT                         float64\n",
            " 354  PELHOTWA                        float64\n",
            " 355  PELCOOK                         float64\n",
            " 356  PELAC                           float64\n",
            " 357  PELLIGHT                        float64\n",
            " 358  PGASHEAT                        float64\n",
            " 359  PGASHTWA                        float64\n",
            " 360  PUGCOOK                         float64\n",
            " 361  PUGOTH                          float64\n",
            " 362  FOPAY                           float64\n",
            " 363  LPGPAY                          float64\n",
            " 364  LPGDELV                         float64\n",
            " 365  WOODLOGS                        float64\n",
            " 366  WDSCRAP                         float64\n",
            " 367  WDPELLET                        float64\n",
            " 368  WDOTHER                         float64\n",
            " 369  WOODAMT                         float64\n",
            " 370  KFUELOT                         int64  \n",
            " 371  HHSEX                           int64  \n",
            " 372  EMPLOYHH                        int64  \n",
            " 373  SPOUSE                          int64  \n",
            " 374  SDESCENT                        int64  \n",
            " 375  Householder_Race                int64  \n",
            " 376  EDUCATION                       int64  \n",
            " 377  NHSLDMEM                        int64  \n",
            " 378  HHAGE                           int64  \n",
            " 379  AGEHHMEMCAT2                    float64\n",
            " 380  AGEHHMEMCAT3                    float64\n",
            " 381  AGEHHMEMCAT4                    float64\n",
            " 382  AGEHHMEMCAT5                    float64\n",
            " 383  HBUSNESS                        int64  \n",
            " 384  ATHOME                          int64  \n",
            " 385  TELLWORK                        int64  \n",
            " 386  TELLDAYS                        float64\n",
            " 387  OTHWORK                         int64  \n",
            " 388  WORKPAY                         int64  \n",
            " 389  RETIREPY                        int64  \n",
            " 390  SSINCOME                        int64  \n",
            " 391  CASHBEN                         int64  \n",
            " 392  INVESTMT                        int64  \n",
            " 393  RGLRPAY                         int64  \n",
            " 394  MONEYPY                         int64  \n",
            " 395  POVERTY100                      int64  \n",
            " 396  POVERTY150                      int64  \n",
            " 397  HUPROJ                          float64\n",
            " 398  RENTHELP                        float64\n",
            " 399  FOODASST                        int64  \n",
            " 400  TOTSQFT                         int64  \n",
            " 401  TOTSQFT_EN                      int64  \n",
            " 402  TOTHSQFT                        int64  \n",
            " 403  TOTUSQFT                        int64  \n",
            " 404  TOTCSQFT                        int64  \n",
            " 405  TOTUCSQFT                       int64  \n",
            " 406  KWH                             int64  \n",
            " 407  DOLLAREL                        int64  \n",
            " 408  DOLELSPH                        float64\n",
            " 409  DOLELCOL                        float64\n",
            " 410  DOLELWTH                        float64\n",
            " 411  DOLELRFG                        float64\n",
            " 412  DOLELOTH                        float64\n",
            " 413  CUFEETNG                        int64  \n",
            " 414  CUFEETNGSPH                     float64\n",
            " 415  CUFEETNGWTH                     float64\n",
            " 416  CUFEETNGOTH                     float64\n",
            " 417  DOLLARNG                        int64  \n",
            " 418  DOLNGSPH                        float64\n",
            " 419  DOLNGWTH                        float64\n",
            " 420  DOLNGOTH                        float64\n",
            " 421  GALLONLP                        int64  \n",
            " 422  GALLONLPSPH                     float64\n",
            " 423  GALLONLPWTH                     float64\n",
            " 424  GALLONLPOTH                     float64\n",
            " 425  DOLLARLP                        int64  \n",
            " 426  DOLLPSPH                        float64\n",
            " 427  DOLLPWTH                        float64\n",
            " 428  DOLLPOTH                        float64\n",
            " 429  GALLONFO                        int64  \n",
            " 430  GALLONFOSPH                     float64\n",
            " 431  GALLONFOWTH                     float64\n",
            " 432  GALLONFOOTH                     float64\n",
            " 433  DOLLARFO                        int64  \n",
            " 434  DOLFOSPH                        float64\n",
            " 435  DOLFOWTH                        float64\n",
            " 436  DOLFOOTH                        float64\n",
            " 437  GALLONKER                       int64  \n",
            " 438  GALLONKERSPH                    int64  \n",
            " 439  GALLONKERWTH                    int64  \n",
            " 440  GALLONKEROTH                    int64  \n",
            " 441  DOLLARKER                       int64  \n",
            " 442  DOLKERSPH                       float64\n",
            " 443  DOLKERWTH                       int64  \n",
            " 444  DOLKEROTH                       float64\n",
            " 445  TOTALDOL                        int64  \n",
            " 446  TOTALDOLSPH                     int64  \n",
            " 447  TOTALDOLCOL                     int64  \n",
            " 448  TOTALDOLWTH                     int64  \n",
            " 449  TOTALDOLRFG                     int64  \n",
            " 450  TOTALDOLOTH                     int64  \n",
            " 451  KAVALEL                         int64  \n",
            " 452  PERIODEL                        int64  \n",
            " 453  SCALEEL                         int64  \n",
            " 454  KAVALNG                         float64\n",
            " 455  PERIODNG                        float64\n",
            " 456  SCALENG                         float64\n",
            " 457  PERIODLP                        float64\n",
            " 458  SCALELP                         float64\n",
            " 459  PERIODFO                        float64\n",
            " 460  SCALEFO                         float64\n",
            " 461  HDD50                           int64  \n",
            " 462  CDD80                           int64  \n",
            " 463  GND_HDD65                       int64  \n",
            " 464  WSF                             float64\n",
            " 465  OA_LAT                          int64  \n",
            " 466  GWT                             int64  \n",
            " 467  DesignDBT99                     float64\n",
            " 468  DesignDBT1                      int64  \n",
            " 469  METROMICRO_MICRO                uint8  \n",
            " 470  METROMICRO_NONE                 uint8  \n",
            " 471  UR_U                            uint8  \n",
            " 472  NOCRCASH_.                      uint8  \n",
            " 473  NOCRCASH_1                      uint8  \n",
            " 474  NOCRCASH_10                     uint8  \n",
            " 475  NOCRCASH_12                     uint8  \n",
            " 476  NOCRCASH_15                     uint8  \n",
            " 477  NOCRCASH_16                     uint8  \n",
            " 478  NOCRCASH_2                      uint8  \n",
            " 479  NOCRCASH_20                     uint8  \n",
            " 480  NOCRCASH_24                     uint8  \n",
            " 481  NOCRCASH_25                     uint8  \n",
            " 482  NOCRCASH_28                     uint8  \n",
            " 483  NOCRCASH_3                      uint8  \n",
            " 484  NOCRCASH_4                      uint8  \n",
            " 485  NOCRCASH_40                     uint8  \n",
            " 486  NOCRCASH_5                      uint8  \n",
            " 487  NOCRCASH_55                     uint8  \n",
            " 488  NOCRCASH_6                      uint8  \n",
            " 489  NOCRCASH_8                      uint8  \n",
            " 490  NKRGALNC_.                      uint8  \n",
            " 491  NKRGALNC_1                      uint8  \n",
            " 492  NKRGALNC_10                     uint8  \n",
            " 493  NKRGALNC_15                     uint8  \n",
            " 494  NKRGALNC_2                      uint8  \n",
            " 495  NKRGALNC_20                     uint8  \n",
            " 496  NKRGALNC_3                      uint8  \n",
            " 497  NKRGALNC_30                     uint8  \n",
            " 498  NKRGALNC_5                      uint8  \n",
            " 499  NKRGALNC_55                     uint8  \n",
            " 500  NKRGALNC_77                     uint8  \n",
            " 501  NKRGALNC_8                      uint8  \n",
            " 502  IECC_Climate_Pub_2B             uint8  \n",
            " 503  IECC_Climate_Pub_3A             uint8  \n",
            " 504  IECC_Climate_Pub_3B-4B          uint8  \n",
            " 505  IECC_Climate_Pub_3C             uint8  \n",
            " 506  IECC_Climate_Pub_4A             uint8  \n",
            " 507  IECC_Climate_Pub_4C             uint8  \n",
            " 508  IECC_Climate_Pub_5A             uint8  \n",
            " 509  IECC_Climate_Pub_5B-5C          uint8  \n",
            " 510  IECC_Climate_Pub_6A-6B          uint8  \n",
            " 511  IECC_Climate_Pub_7A-7B-7AK-8AK  uint8  \n",
            "dtypes: float64(301), int64(168), uint8(43)\n",
            "memory usage: 43.7 MB\n"
          ]
        }
      ],
      "source": [
        "data_public.info(verbose = True)"
      ]
    },
    {
      "cell_type": "markdown",
      "source": [
        "Saving the columns of data_public dataframe"
      ],
      "metadata": {
        "id": "P8oKzDLXKtvE"
      },
      "id": "P8oKzDLXKtvE"
    },
    {
      "cell_type": "code",
      "execution_count": null,
      "id": "c13daef3",
      "metadata": {
        "id": "c13daef3"
      },
      "outputs": [],
      "source": [
        "data_public_columns = data_public.columns"
      ]
    },
    {
      "cell_type": "markdown",
      "source": [
        "Imputing the NaN values with median values"
      ],
      "metadata": {
        "id": "YspuI3P4LQbe"
      },
      "id": "YspuI3P4LQbe"
    },
    {
      "cell_type": "code",
      "execution_count": null,
      "id": "77064e00",
      "metadata": {
        "id": "77064e00"
      },
      "outputs": [],
      "source": [
        "# Function for imputing NaN values \n",
        "\n",
        "def imputer(df, strategy):\n",
        "  imputer = SimpleImputer(missing_values = np.nan, strategy = strategy)\n",
        "  imputer = imputer.fit(df)\n",
        "  df= imputer.transform(df)\n",
        "  return df\n",
        "\n",
        "\n",
        "# Imputing the NaN values with median values\n",
        "strategy = 'median'\n",
        "data_public = imputer(data_public, strategy)"
      ]
    },
    {
      "cell_type": "code",
      "source": [
        "data_public = pd.DataFrame(data_public, columns = data_public_columns)\n",
        "\n",
        "data_public_clean_original = data_public.copy(deep=True)"
      ],
      "metadata": {
        "id": "bqp8umd_RkuT"
      },
      "id": "bqp8umd_RkuT",
      "execution_count": null,
      "outputs": []
    },
    {
      "cell_type": "code",
      "execution_count": null,
      "id": "6e218939",
      "metadata": {
        "colab": {
          "base_uri": "https://localhost:8080/"
        },
        "id": "6e218939",
        "outputId": "2f1d845d-f677-45dd-b9f4-eea3c32d4a5a"
      },
      "outputs": [
        {
          "output_type": "execute_result",
          "data": {
            "text/plain": [
              "Index(['DOEID', 'REGIONC', 'DIVISION', 'REPORTABLE_DOMAIN', 'TYPEHUQ',\n",
              "       'NWEIGHT', 'HDD65', 'CDD65', 'HDD30YR', 'CDD30YR',\n",
              "       ...\n",
              "       'IECC_Climate_Pub_2B', 'IECC_Climate_Pub_3A', 'IECC_Climate_Pub_3B-4B',\n",
              "       'IECC_Climate_Pub_3C', 'IECC_Climate_Pub_4A', 'IECC_Climate_Pub_4C',\n",
              "       'IECC_Climate_Pub_5A', 'IECC_Climate_Pub_5B-5C',\n",
              "       'IECC_Climate_Pub_6A-6B', 'IECC_Climate_Pub_7A-7B-7AK-8AK'],\n",
              "      dtype='object', length=512)"
            ]
          },
          "metadata": {},
          "execution_count": 24
        }
      ],
      "source": [
        "data_public.columns"
      ]
    },
    {
      "cell_type": "markdown",
      "source": [
        "# 3. Data Analysis"
      ],
      "metadata": {
        "id": "ct8gCKvamc53"
      },
      "id": "ct8gCKvamc53"
    },
    {
      "cell_type": "code",
      "execution_count": null,
      "id": "6a24218b",
      "metadata": {
        "id": "6a24218b"
      },
      "outputs": [],
      "source": [
        "Y_colname = ['KWH']"
      ]
    },
    {
      "cell_type": "markdown",
      "source": [
        "Finding the correlation of features with output variable"
      ],
      "metadata": {
        "id": "4zXrXBAcLX3y"
      },
      "id": "4zXrXBAcLX3y"
    },
    {
      "cell_type": "code",
      "execution_count": null,
      "id": "f829ea54",
      "metadata": {
        "id": "f829ea54"
      },
      "outputs": [],
      "source": [
        "corr_values = data_public[data_public.columns[1:]].corr()[Y_colname][:]\n",
        "corr_values.rename(columns = {'KWH' : 'correlation'}, inplace = True)"
      ]
    },
    {
      "cell_type": "code",
      "execution_count": null,
      "id": "44f53f4c",
      "metadata": {
        "scrolled": true,
        "colab": {
          "base_uri": "https://localhost:8080/"
        },
        "id": "44f53f4c",
        "outputId": "740c6a78-1963-4195-cc99-0a44efdc9e14"
      },
      "outputs": [
        {
          "output_type": "execute_result",
          "data": {
            "text/plain": [
              "Index(['REGIONC', 'DIVISION', 'REPORTABLE_DOMAIN', 'TYPEHUQ', 'NWEIGHT',\n",
              "       'HDD65', 'CDD65', 'HDD30YR', 'CDD30YR', 'Climate_Region_Pub',\n",
              "       ...\n",
              "       'IECC_Climate_Pub_2B', 'IECC_Climate_Pub_3A', 'IECC_Climate_Pub_3B-4B',\n",
              "       'IECC_Climate_Pub_3C', 'IECC_Climate_Pub_4A', 'IECC_Climate_Pub_4C',\n",
              "       'IECC_Climate_Pub_5A', 'IECC_Climate_Pub_5B-5C',\n",
              "       'IECC_Climate_Pub_6A-6B', 'IECC_Climate_Pub_7A-7B-7AK-8AK'],\n",
              "      dtype='object', length=511)"
            ]
          },
          "metadata": {},
          "execution_count": 27
        }
      ],
      "source": [
        "corr_values.index"
      ]
    },
    {
      "cell_type": "markdown",
      "source": [
        "Plotting the correlation of KWH with the features"
      ],
      "metadata": {
        "id": "q1zPl_pOLiMV"
      },
      "id": "q1zPl_pOLiMV"
    },
    {
      "cell_type": "code",
      "execution_count": null,
      "id": "95942737",
      "metadata": {
        "colab": {
          "base_uri": "https://localhost:8080/",
          "height": 297
        },
        "id": "95942737",
        "outputId": "2f887184-5eb0-4947-a359-878014b95fd1"
      },
      "outputs": [
        {
          "output_type": "execute_result",
          "data": {
            "text/plain": [
              "Text(0, 0.5, 'Correlation With Output')"
            ]
          },
          "metadata": {},
          "execution_count": 28
        },
        {
          "output_type": "display_data",
          "data": {
            "text/plain": [
              "<Figure size 432x288 with 1 Axes>"
            ],
            "image/png": "[encoded data removed]"
          },
          "metadata": {
            "needs_background": "light"
          }
        }
      ],
      "source": [
        "plt.scatter(corr_values.index, corr_values['correlation'])\n",
        "plt.xlabel(\"Data Features\")\n",
        "plt.ylabel(\"Correlation With Output\")"
      ]
    },
    {
      "cell_type": "markdown",
      "source": [
        "Histogram of the correlation of KWH with other variables. "
      ],
      "metadata": {
        "id": "wDvXI3E7L-nX"
      },
      "id": "wDvXI3E7L-nX"
    },
    {
      "cell_type": "code",
      "execution_count": null,
      "id": "63038923",
      "metadata": {
        "colab": {
          "base_uri": "https://localhost:8080/",
          "height": 491
        },
        "id": "63038923",
        "outputId": "b2245516-cb1d-4a48-aa41-4e0c823f4c38"
      },
      "outputs": [
        {
          "output_type": "execute_result",
          "data": {
            "text/plain": [
              "(array([  1.,   2.,   3.,   3.,   7.,  14.,  23.,  35.,  60., 112.,  61.,\n",
              "         54.,  40.,  21.,  19.,  16.,  10.,   6.,   3.,   5.,   6.,   1.,\n",
              "          1.,   0.,   2.,   1.,   1.,   1.,   0.,   0.,   0.,   1.,   0.,\n",
              "          0.,   1.]),\n",
              " array([-0.35312325, -0.31446259, -0.27580192, -0.23714126, -0.1984806 ,\n",
              "        -0.15981993, -0.12115927, -0.0824986 , -0.04383794, -0.00517727,\n",
              "         0.03348339,  0.07214406,  0.11080472,  0.14946538,  0.18812605,\n",
              "         0.22678671,  0.26544738,  0.30410804,  0.34276871,  0.38142937,\n",
              "         0.42009003,  0.4587507 ,  0.49741136,  0.53607203,  0.57473269,\n",
              "         0.61339336,  0.65205402,  0.69071469,  0.72937535,  0.76803601,\n",
              "         0.80669668,  0.84535734,  0.88401801,  0.92267867,  0.96133934,\n",
              "         1.        ]),\n",
              " <a list of 35 Patch objects>)"
            ]
          },
          "metadata": {},
          "execution_count": 29
        },
        {
          "output_type": "display_data",
          "data": {
            "text/plain": [
              "<Figure size 432x288 with 1 Axes>"
            ],
            "image/png": "[encoded data removed]"
          },
          "metadata": {
            "needs_background": "light"
          }
        }
      ],
      "source": [
        "plt.hist(corr_values['correlation'], bins = 35, edgecolor='black', linewidth=1.2)"
      ]
    },
    {
      "cell_type": "markdown",
      "id": "5a031b76",
      "metadata": {
        "id": "5a031b76"
      },
      "source": [
        "# 4. Random Forest Regressor"
      ]
    },
    {
      "cell_type": "markdown",
      "source": [
        "Importing the Libraries"
      ],
      "metadata": {
        "id": "6QisCeQUMpqc"
      },
      "id": "6QisCeQUMpqc"
    },
    {
      "cell_type": "code",
      "source": [
        "from sklearn.metrics import explained_variance_score, mean_absolute_error, r2_score, mean_squared_error\n",
        "from time import time\n",
        "from sklearn.ensemble import RandomForestRegressor\n",
        "from sklearn.model_selection import GridSearchCV\n",
        "from sklearn.model_selection import RepeatedKFold\n",
        "from sklearn.model_selection import cross_val_score, GridSearchCV"
      ],
      "metadata": {
        "id": "38A4T3SJVrg6"
      },
      "id": "38A4T3SJVrg6",
      "execution_count": null,
      "outputs": []
    },
    {
      "cell_type": "markdown",
      "source": [
        "Preparing the data and splitting into train set and test set"
      ],
      "metadata": {
        "id": "aMLEqBRHMRm2"
      },
      "id": "aMLEqBRHMRm2"
    },
    {
      "cell_type": "code",
      "execution_count": null,
      "id": "471f0b92",
      "metadata": {
        "id": "471f0b92"
      },
      "outputs": [],
      "source": [
        "# Extract features and labels\n",
        "Y = data_public['KWH']\n",
        "X = data_public.drop('KWH', axis = 1)\n",
        "\n",
        "# List of features for later use\n",
        "X_columns = list(X.columns)\n",
        "\n",
        "# Training and Testing Sets\n",
        "X_train, X_test, y_train, y_test = train_test_split(X, Y, test_size = 0.2, random_state = 42)"
      ]
    },
    {
      "cell_type": "code",
      "source": [
        "Y.head()"
      ],
      "metadata": {
        "colab": {
          "base_uri": "https://localhost:8080/"
        },
        "id": "5_TVvmgOa25r",
        "outputId": "0019f133-525e-4edd-cad3-516100aa732e"
      },
      "id": "5_TVvmgOa25r",
      "execution_count": null,
      "outputs": [
        {
          "output_type": "execute_result",
          "data": {
            "text/plain": [
              "0    18466.0\n",
              "1     5148.0\n",
              "2     2218.0\n",
              "3    10015.0\n",
              "4     2869.0\n",
              "Name: KWH, dtype: float64"
            ]
          },
          "metadata": {},
          "execution_count": 32
        }
      ]
    },
    {
      "cell_type": "code",
      "execution_count": null,
      "id": "08ee9c3f",
      "metadata": {
        "colab": {
          "base_uri": "https://localhost:8080/"
        },
        "id": "08ee9c3f",
        "outputId": "51f365ab-e7d5-42f0-9890-35f9110f9aa4"
      },
      "outputs": [
        {
          "output_type": "stream",
          "name": "stdout",
          "text": [
            "Training Features Shape (X_train): (9666, 511)\n",
            "Training Labels Shape (y_train): (9666,)\n",
            "Testing Features Shape (X_test): (2417, 511)\n",
            "Testing Labels Shape (y_test): (2417,)\n"
          ]
        }
      ],
      "source": [
        "print('Training Features Shape (X_train):', X_train.shape)\n",
        "print('Training Labels Shape (y_train):', y_train.shape)\n",
        "print('Testing Features Shape (X_test):', X_test.shape )\n",
        "print('Testing Labels Shape (y_test):', y_test.shape)"
      ]
    },
    {
      "cell_type": "markdown",
      "source": [
        "Defining the parameters"
      ],
      "metadata": {
        "id": "XrR6EjzhMu8e"
      },
      "id": "XrR6EjzhMu8e"
    },
    {
      "cell_type": "code",
      "source": [
        "param_dict_rfr = {'max_depth' : range(1,10,5),\n",
        "                  'n_estimators': [50, 100, 150],\n",
        "                  'max_features': ['auto', 'sqrt', 'log2'],\n",
        "                  'criterion' :['squared_error'] } #n_estimators = 100, #'criterion' : ['squared_error'], max_depth=None, min_samples_split=2, max_features=1.0, }\n",
        "\n",
        "model = RandomForestRegressor()\n",
        "\n",
        "cv = RepeatedKFold(n_splits=10, n_repeats=3, random_state=1)"
      ],
      "metadata": {
        "id": "k8aZiSdyZEhJ"
      },
      "id": "k8aZiSdyZEhJ",
      "execution_count": null,
      "outputs": []
    },
    {
      "cell_type": "markdown",
      "source": [
        "Fitting the model"
      ],
      "metadata": {
        "id": "FqTWPtJzM42W"
      },
      "id": "FqTWPtJzM42W"
    },
    {
      "cell_type": "code",
      "source": [
        "rfr_old = model\n",
        "rfr_old.fit(X_train,y_train)"
      ],
      "metadata": {
        "colab": {
          "base_uri": "https://localhost:8080/"
        },
        "id": "jC7_5NWaa6xS",
        "outputId": "a4161761-fb8a-40fc-b933-58993cc88671"
      },
      "id": "jC7_5NWaa6xS",
      "execution_count": null,
      "outputs": [
        {
          "output_type": "execute_result",
          "data": {
            "text/plain": [
              "RandomForestRegressor()"
            ]
          },
          "metadata": {},
          "execution_count": 35
        }
      ]
    },
    {
      "cell_type": "markdown",
      "source": [
        "Using GridSearchCV for optimum parameter selection"
      ],
      "metadata": {
        "id": "zpXa5PH1M94Q"
      },
      "id": "zpXa5PH1M94Q"
    },
    {
      "cell_type": "code",
      "source": [
        "grid_rf = GridSearchCV(rfr_old, param_grid = param_dict_rfr, cv= cv, n_jobs = -1)\n",
        "grid_rf.fit(X_train, y_train)"
      ],
      "metadata": {
        "colab": {
          "base_uri": "https://localhost:8080/"
        },
        "id": "ly3mxeW3bQRW",
        "outputId": "d695eebe-ec28-482b-bb6d-bba9627052f0"
      },
      "id": "ly3mxeW3bQRW",
      "execution_count": null,
      "outputs": [
        {
          "output_type": "execute_result",
          "data": {
            "text/plain": [
              "GridSearchCV(cv=RepeatedKFold(n_repeats=3, n_splits=10, random_state=1),\n",
              "             estimator=RandomForestRegressor(), n_jobs=-1,\n",
              "             param_grid={'criterion': ['squared_error'],\n",
              "                         'max_depth': range(1, 10, 5),\n",
              "                         'max_features': ['auto', 'sqrt', 'log2'],\n",
              "                         'n_estimators': [50, 100, 150]})"
            ]
          },
          "metadata": {},
          "execution_count": 37
        }
      ]
    },
    {
      "cell_type": "markdown",
      "source": [
        "Looking at the best parameters"
      ],
      "metadata": {
        "id": "WCvHQ0lANKLl"
      },
      "id": "WCvHQ0lANKLl"
    },
    {
      "cell_type": "code",
      "source": [
        "grid_rf.best_params_"
      ],
      "metadata": {
        "colab": {
          "base_uri": "https://localhost:8080/"
        },
        "id": "yvjuWRYeWthg",
        "outputId": "6e1784c0-4057-443a-b9d2-e33984913d54"
      },
      "id": "yvjuWRYeWthg",
      "execution_count": null,
      "outputs": [
        {
          "output_type": "execute_result",
          "data": {
            "text/plain": [
              "{'criterion': 'squared_error',\n",
              " 'max_depth': 6,\n",
              " 'max_features': 'auto',\n",
              " 'n_estimators': 50}"
            ]
          },
          "metadata": {},
          "execution_count": 38
        }
      ]
    },
    {
      "cell_type": "markdown",
      "source": [
        "Giving the new best parameters to the model"
      ],
      "metadata": {
        "id": "6OIT5cUsNS8b"
      },
      "id": "6OIT5cUsNS8b"
    },
    {
      "cell_type": "code",
      "execution_count": null,
      "id": "5086a539",
      "metadata": {
        "id": "5086a539"
      },
      "outputs": [],
      "source": [
        "rfr = RandomForestRegressor(n_estimators= grid_rf.best_params_['n_estimators'],\n",
        "                               criterion = grid_rf.best_params_['criterion'], \n",
        "                               max_depth = grid_rf.best_params_['max_depth'], \n",
        "                               max_features = grid_rf.best_params_['max_features'], \n",
        "                               random_state=42)"
      ]
    },
    {
      "cell_type": "markdown",
      "source": [
        "Finding the training time, testing time, MSE and R2 Score"
      ],
      "metadata": {
        "id": "4quF-pXnOKV3"
      },
      "id": "4quF-pXnOKV3"
    },
    {
      "cell_type": "code",
      "source": [
        "regressor = [rfr]\n",
        "\n",
        "for model in regressor[:]:\n",
        "    start = time()\n",
        "    model.fit(X_train, y_train)\n",
        "    train_time = time() - start\n",
        "    y_pred = model.predict(X_test)\n",
        "    predict_time = time()-start   \n",
        "    print(model)\n",
        "    print(\"\\t Training time: %0.3fs\" % train_time)\n",
        "    print(\"\\t Prediction time: %0.3fs\" % predict_time)\n",
        "    print(\"\\t Mean Squared error: \", mean_squared_error(y_test, y_pred))\n",
        "    print(\"\\t R2 score:\", r2_score(y_test, y_pred))"
      ],
      "metadata": {
        "colab": {
          "base_uri": "https://localhost:8080/"
        },
        "id": "KFoPmmkPeebi",
        "outputId": "4a03384f-8a62-464e-abd6-63759cb82f4c"
      },
      "id": "KFoPmmkPeebi",
      "execution_count": null,
      "outputs": [
        {
          "output_type": "stream",
          "name": "stdout",
          "text": [
            "RandomForestRegressor(max_depth=6, n_estimators=50, random_state=42)\n",
            "\t Training time: 11.420s\n",
            "\t Prediction time: 11.437s\n",
            "\t Mean Squared error:  6323352.602906706\n",
            "\t R2 score: 0.8748384245773435\n"
          ]
        }
      ]
    },
    {
      "cell_type": "markdown",
      "id": "52fc355e",
      "metadata": {
        "id": "52fc355e"
      },
      "source": [
        "Feature Importances <br>\n",
        "Finding the variables contributing the most towards the prediction of electricity consumption"
      ]
    },
    {
      "cell_type": "code",
      "execution_count": null,
      "id": "205b2341",
      "metadata": {
        "colab": {
          "base_uri": "https://localhost:8080/"
        },
        "id": "205b2341",
        "outputId": "67cfa80b-d2b7-48fc-a5f9-f91d4f2fdbdc"
      },
      "outputs": [
        {
          "output_type": "stream",
          "name": "stdout",
          "text": [
            "Column: DOLLAREL             Importance: 0.85117\n",
            "Column: REPORTABLE_DOMAIN    Importance: 0.05115\n",
            "Column: HDD50                Importance: 0.0241\n",
            "Column: DIVISION             Importance: 0.01293\n",
            "Column: NWEIGHT              Importance: 0.00649\n",
            "Column: REGIONC              Importance: 0.00546\n",
            "Column: HEATROOM             Importance: 0.00363\n",
            "Column: HDD65                Importance: 0.00357\n",
            "Column: OTHROOMS             Importance: 0.00282\n",
            "Column: TOTALDOL             Importance: 0.00278\n",
            "Column: TOTHSQFT             Importance: 0.00213\n",
            "Column: GND_HDD65            Importance: 0.00173\n",
            "Column: DOLELOTH             Importance: 0.00162\n",
            "Column: GALLONLPOTH          Importance: 0.00162\n",
            "Column: GALLONLP             Importance: 0.00156\n",
            "Column: TOTALDOLOTH          Importance: 0.00155\n",
            "Column: HDD30YR              Importance: 0.00142\n",
            "Column: TOTCSQFT             Importance: 0.00122\n",
            "Column: TOTALDOLCOL          Importance: 0.00113\n",
            "Column: OVEN                 Importance: 0.00108\n",
            "Column: NCOMBATH             Importance: 0.00105\n",
            "Column: DOLELSPH             Importance: 0.00105\n",
            "Column: DOLELWTH             Importance: 0.00105\n",
            "Column: DesignDBT99          Importance: 0.00096\n",
            "Column: LGT12EE              Importance: 0.00092\n",
            "Column: DOLELRFG             Importance: 0.00065\n",
            "Column: ACROOMS              Importance: 0.00064\n",
            "Column: HELPWS               Importance: 0.0006\n",
            "Column: EQUIPM               Importance: 0.00058\n",
            "Column: DesignDBT1           Importance: 0.00058\n",
            "Column: NUMFREEZ             Importance: 0.00055\n",
            "Column: OTHWORK              Importance: 0.00054\n",
            "Column: TOTSQFT              Importance: 0.00048\n",
            "Column: GALLONLPSPH          Importance: 0.00045\n",
            "Column: CDD30YR              Importance: 0.00042\n",
            "Column: TOTROOMS             Importance: 0.00042\n",
            "Column: DOLELCOL             Importance: 0.00042\n",
            "Column: FUELH2O              Importance: 0.00037\n",
            "Column: USENOTMOIST          Importance: 0.00037\n",
            "Column: CDD65                Importance: 0.00033\n",
            "Column: LGT12                Importance: 0.00031\n",
            "Column: OA_LAT               Importance: 0.00031\n",
            "Column: KAVALNG              Importance: 0.0003\n",
            "Column: FUELHEAT             Importance: 0.00029\n",
            "Column: AGEHHMEMCAT2         Importance: 0.00028\n",
            "Column: GARGHEAT             Importance: 0.00026\n",
            "Column: Climate_Region_Pub   Importance: 0.00025\n",
            "Column: WOODAUX              Importance: 0.00025\n",
            "Column: TOTALDOLSPH          Importance: 0.00025\n",
            "Column: TOTALDOLWTH          Importance: 0.00024\n",
            "Column: YEARMADE             Importance: 0.00022\n",
            "Column: TEMPHOMEAC           Importance: 0.00022\n",
            "Column: TVTYPE2              Importance: 0.0002\n",
            "Column: IECC_Climate_Pub_3C  Importance: 0.00018\n",
            "Column: AGEHHMEMCAT4         Importance: 0.00017\n",
            "Column: TEMPNITE             Importance: 0.00016\n",
            "Column: AUTOCOOLDAY          Importance: 0.00016\n",
            "Column: DWASHUSE             Importance: 0.00015\n",
            "Column: TYPERFR1             Importance: 0.00014\n",
            "Column: LGT4EE               Importance: 0.00014\n",
            "Column: RGLRPAY              Importance: 0.00014\n",
            "Column: IECC_Climate_Pub_4C  Importance: 0.00014\n",
            "Column: DOLLARNG             Importance: 0.00013\n",
            "Column: GWT                  Importance: 0.00013\n",
            "Column: OCCUPYYRANGE         Importance: 0.00012\n",
            "Column: AIA_Zone             Importance: 0.00011\n",
            "Column: ATTIC                Importance: 0.0001\n",
            "Column: TYPERFR2             Importance: 0.0001\n",
            "Column: ESWWAC               Importance: 0.0001\n",
            "Column: Householder_Race     Importance: 0.0001\n",
            "Column: WALLTYPE             Importance: 8e-05\n",
            "Column: AGECWASH             Importance: 8e-05\n",
            "Column: TYPEHUQ              Importance: 7e-05\n",
            "Column: ESFRIG               Importance: 7e-05\n",
            "Column: TVONWD1              Importance: 7e-05\n",
            "Column: PCTYPE3              Importance: 7e-05\n",
            "Column: OUTGRILL             Importance: 6e-05\n",
            "Column: AGERFRI1             Importance: 6e-05\n",
            "Column: TVONWD2              Importance: 6e-05\n",
            "Column: BATTOOLS             Importance: 6e-05\n",
            "Column: AGECENAC             Importance: 6e-05\n",
            "Column: NUMCFAN              Importance: 6e-05\n",
            "Column: TREESHAD             Importance: 6e-05\n",
            "Column: KFUELOT              Importance: 6e-05\n",
            "Column: TOTUSQFT             Importance: 6e-05\n",
            "Column: CRAWL                Importance: 5e-05\n",
            "Column: TVAUDIOSYS2          Importance: 5e-05\n",
            "Column: TVTYPE3              Importance: 5e-05\n",
            "Column: NUMTHERM             Importance: 5e-05\n",
            "Column: USECFAN              Importance: 5e-05\n",
            "Column: ELFOOD               Importance: 5e-05\n",
            "Column: WORKPAY              Importance: 5e-05\n",
            "Column: WSF                  Importance: 5e-05\n",
            "Column: STORIES              Importance: 4e-05\n",
            "Column: OUTLET               Importance: 4e-05\n",
            "Column: AGEDW                Importance: 4e-05\n",
            "Column: CABLESAT3            Importance: 4e-05\n",
            "Column: COMBOVCRDVD3         Importance: 4e-05\n",
            "Column: TEMPGONE             Importance: 4e-05\n",
            "Column: BEDROOMS             Importance: 3e-05\n",
            "Column: STOVE                Importance: 3e-05\n",
            "Column: SIZFREEZ             Importance: 3e-05\n",
            "Column: CENACHP              Importance: 3e-05\n",
            "Column: TEMPNITEAC           Importance: 3e-05\n",
            "Column: LGT4                 Importance: 3e-05\n",
            "Column: DOOR1SUM             Importance: 3e-05\n",
            "Column: NHSLDMEM             Importance: 3e-05\n",
            "Column: MONEYPY              Importance: 3e-05\n",
            "Column: TOTSQFT_EN           Importance: 3e-05\n",
            "Column: CUFEETNGWTH          Importance: 3e-05\n",
            "Column: CDD80                Importance: 3e-05\n",
            "Column: YEARMADERANGE        Importance: 2e-05\n",
            "Column: BASECOOL             Importance: 2e-05\n",
            "Column: GARGLOC              Importance: 2e-05\n",
            "Column: MONRFRI2             Importance: 2e-05\n",
            "Column: INSATEL              Importance: 2e-05\n",
            "Column: INWIRELESS           Importance: 2e-05\n",
            "Column: CHIMNEY              Importance: 2e-05\n",
            "Column: WHEATAGE             Importance: 2e-05\n",
            "Column: WHEATBKT             Importance: 2e-05\n",
            "Column: TEMPGONEAC           Importance: 2e-05\n",
            "Column: POOL                 Importance: 2e-05\n",
            "Column: LGT1                 Importance: 2e-05\n",
            "Column: LGT1EE               Importance: 2e-05\n",
            "Column: POVERTY150           Importance: 2e-05\n",
            "Column: TOTUCSQFT            Importance: 2e-05\n",
            "Column: CUFEETNGOTH          Importance: 2e-05\n",
            "Column: UR_U                 Importance: 2e-05\n",
            "Column: NUMAPTS              Importance: 1e-05\n",
            "Column: BASEHT2              Importance: 1e-05\n",
            "Column: OVENUSE              Importance: 1e-05\n",
            "Column: AMTMICRO             Importance: 1e-05\n",
            "Column: UPRTFRZR             Importance: 1e-05\n",
            "Column: CWASHER              Importance: 1e-05\n",
            "Column: WASHLOAD             Importance: 1e-05\n",
            "Column: AGECDRYER            Importance: 1e-05\n",
            "Column: TVCOLOR              Importance: 1e-05\n",
            "Column: VCR1                 Importance: 1e-05\n",
            "Column: TVONWE2              Importance: 1e-05\n",
            "Column: TVSIZE3              Importance: 1e-05\n",
            "Column: DIGITSTB3            Importance: 1e-05\n",
            "Column: DVD3                 Importance: 1e-05\n",
            "Column: TIMEON1              Importance: 1e-05\n",
            "Column: MONITOR3             Importance: 1e-05\n",
            "Column: TIMEON3              Importance: 1e-05\n",
            "Column: INTERNET             Importance: 1e-05\n",
            "Column: INDSL                Importance: 1e-05\n",
            "Column: CHRGPLGT             Importance: 1e-05\n",
            "Column: ELECDEV              Importance: 1e-05\n",
            "Column: ELECCHRG             Importance: 1e-05\n",
            "Column: TEMPHOME             Importance: 1e-05\n",
            "Column: USEWWAC              Importance: 1e-05\n",
            "Column: TYPEGLASS            Importance: 1e-05\n",
            "Column: AGEINS               Importance: 1e-05\n",
            "Column: DRAFTY               Importance: 1e-05\n",
            "Column: EDUCATION            Importance: 1e-05\n",
            "Column: TELLDAYS             Importance: 1e-05\n",
            "Column: CUFEETNGSPH          Importance: 1e-05\n",
            "Column: TOTALDOLRFG          Importance: 1e-05\n",
            "Column: KAVALEL              Importance: 1e-05\n",
            "Column: PERIODEL             Importance: 1e-05\n",
            "Column: DOEID                Importance: 0.0\n",
            "Column: KOWNRENT             Importance: 0.0\n",
            "Column: CONDCOOP             Importance: 0.0\n",
            "Column: CONVERSION           Importance: 0.0\n",
            "Column: NUMFLRS              Importance: 0.0\n",
            "Column: ROOFTYPE             Importance: 0.0\n",
            "Column: STUDIO               Importance: 0.0\n",
            "Column: NAPTFLRS             Importance: 0.0\n",
            "Column: NHAFBATH             Importance: 0.0\n",
            "Column: CELLAR               Importance: 0.0\n",
            "Column: CONCRETE             Importance: 0.0\n",
            "Column: BASEFIN              Importance: 0.0\n",
            "Column: FINBASERMS           Importance: 0.0\n",
            "Column: BASEHEAT             Importance: 0.0\n",
            "Column: PCTBSTHT             Importance: 0.0\n",
            "Column: BASECL2              Importance: 0.0\n",
            "Column: BASEUSE              Importance: 0.0\n",
            "Column: ATTICFIN             Importance: 0.0\n",
            "Column: ATTCHEAT             Importance: 0.0\n",
            "Column: ATTCCOOL             Importance: 0.0\n",
            "Column: ATTICUSE             Importance: 0.0\n",
            "Column: PRKGPLC1             Importance: 0.0\n",
            "Column: SIZEOFGARAGE         Importance: 0.0\n",
            "Column: GARGCOOL             Importance: 0.0\n",
            "Column: PRKGPLC2             Importance: 0.0\n",
            "Column: SIZEOFDETACH         Importance: 0.0\n",
            "Column: STOVEN               Importance: 0.0\n",
            "Column: STOVENFUEL           Importance: 0.0\n",
            "Column: STOVEFUEL            Importance: 0.0\n",
            "Column: OVENFUEL             Importance: 0.0\n",
            "Column: OVENCLN              Importance: 0.0\n",
            "Column: TYPECLN              Importance: 0.0\n",
            "Column: MICRO                Importance: 0.0\n",
            "Column: DEFROST              Importance: 0.0\n",
            "Column: OUTGRILLFUEL         Importance: 0.0\n",
            "Column: TOPGRILL             Importance: 0.0\n",
            "Column: TOASTER              Importance: 0.0\n",
            "Column: NUMMEAL              Importance: 0.0\n",
            "Column: FUELFOOD             Importance: 0.0\n",
            "Column: COFFEE               Importance: 0.0\n",
            "Column: NUMFRIG              Importance: 0.0\n",
            "Column: SIZRFRI1             Importance: 0.0\n",
            "Column: REFRIGT1             Importance: 0.0\n",
            "Column: ICE                  Importance: 0.0\n",
            "Column: REPLCFRI             Importance: 0.0\n",
            "Column: HELPFRI              Importance: 0.0\n",
            "Column: SIZRFRI2             Importance: 0.0\n",
            "Column: REFRIGT2             Importance: 0.0\n",
            "Column: AGERFRI2             Importance: 0.0\n",
            "Column: ESFRIG2              Importance: 0.0\n",
            "Column: SEPFREEZ             Importance: 0.0\n",
            "Column: FREEZER              Importance: 0.0\n",
            "Column: AGEFRZR              Importance: 0.0\n",
            "Column: REPLCFRZ             Importance: 0.0\n",
            "Column: HELPFRZ              Importance: 0.0\n",
            "Column: DISHWASH             Importance: 0.0\n",
            "Column: ESDISHW              Importance: 0.0\n",
            "Column: REPLCDW              Importance: 0.0\n",
            "Column: HELPDW               Importance: 0.0\n",
            "Column: TOPFRONT             Importance: 0.0\n",
            "Column: WASHTEMP             Importance: 0.0\n",
            "Column: RNSETEMP             Importance: 0.0\n",
            "Column: ESCWASH              Importance: 0.0\n",
            "Column: REPLCCW              Importance: 0.0\n",
            "Column: HELPCW               Importance: 0.0\n",
            "Column: DRYER                Importance: 0.0\n",
            "Column: DRYRFUEL             Importance: 0.0\n",
            "Column: DRYRUSE              Importance: 0.0\n",
            "Column: TVSIZE1              Importance: 0.0\n",
            "Column: TVTYPE1              Importance: 0.0\n",
            "Column: CABLESAT1            Importance: 0.0\n",
            "Column: COMBODVR1            Importance: 0.0\n",
            "Column: DVR1                 Importance: 0.0\n",
            "Column: DIGITSTB1            Importance: 0.0\n",
            "Column: PLAYSTA1             Importance: 0.0\n",
            "Column: COMBOVCRDVD1         Importance: 0.0\n",
            "Column: DVD1                 Importance: 0.0\n",
            "Column: TVAUDIOSYS1          Importance: 0.0\n",
            "Column: OTHERSTB1            Importance: 0.0\n",
            "Column: TVONWDWATCH1         Importance: 0.0\n",
            "Column: TVONWE1              Importance: 0.0\n",
            "Column: TVONWEWATCH1         Importance: 0.0\n",
            "Column: TVSIZE2              Importance: 0.0\n",
            "Column: CABLESAT2            Importance: 0.0\n",
            "Column: COMBODVR2            Importance: 0.0\n",
            "Column: DVR2                 Importance: 0.0\n",
            "Column: DIGITSTB2            Importance: 0.0\n",
            "Column: PLAYSTA2             Importance: 0.0\n",
            "Column: COMBOVCRDVD2         Importance: 0.0\n",
            "Column: VCR2                 Importance: 0.0\n",
            "Column: DVD2                 Importance: 0.0\n",
            "Column: OTHERSTB2            Importance: 0.0\n",
            "Column: TVONWDWATCH2         Importance: 0.0\n",
            "Column: TVONWEWATCH2         Importance: 0.0\n",
            "Column: COMBODVR3            Importance: 0.0\n",
            "Column: DVR3                 Importance: 0.0\n",
            "Column: PLAYSTA3             Importance: 0.0\n",
            "Column: VCR3                 Importance: 0.0\n",
            "Column: TVAUDIOSYS3          Importance: 0.0\n",
            "Column: OTHERSTB3            Importance: 0.0\n",
            "Column: TVONWD3              Importance: 0.0\n",
            "Column: TVONWDWATCH3         Importance: 0.0\n",
            "Column: TVONWE3              Importance: 0.0\n",
            "Column: TVONWEWATCH3         Importance: 0.0\n",
            "Column: COMPUTER             Importance: 0.0\n",
            "Column: NUMPC                Importance: 0.0\n",
            "Column: PCTYPE1              Importance: 0.0\n",
            "Column: MONITOR1             Importance: 0.0\n",
            "Column: PCONOFF1             Importance: 0.0\n",
            "Column: PCSLEEP1             Importance: 0.0\n",
            "Column: PCTYPE2              Importance: 0.0\n",
            "Column: MONITOR2             Importance: 0.0\n",
            "Column: TIMEON2              Importance: 0.0\n",
            "Column: PCONOFF2             Importance: 0.0\n",
            "Column: PCSLEEP2             Importance: 0.0\n",
            "Column: PCONOFF3             Importance: 0.0\n",
            "Column: INDIALUP             Importance: 0.0\n",
            "Column: INCABLE              Importance: 0.0\n",
            "Column: PCPRINT              Importance: 0.0\n",
            "Column: FAX                  Importance: 0.0\n",
            "Column: COPIER               Importance: 0.0\n",
            "Column: WELLPUMP             Importance: 0.0\n",
            "Column: DIPSTICK             Importance: 0.0\n",
            "Column: SWAMPCOL             Importance: 0.0\n",
            "Column: AQUARIUM             Importance: 0.0\n",
            "Column: STEREO               Importance: 0.0\n",
            "Column: NOCORD               Importance: 0.0\n",
            "Column: ANSMACH              Importance: 0.0\n",
            "Column: BATCHRG              Importance: 0.0\n",
            "Column: CHRGPLGE             Importance: 0.0\n",
            "Column: HEATHOME             Importance: 0.0\n",
            "Column: MAINTHT              Importance: 0.0\n",
            "Column: EQUIPAGE             Importance: 0.0\n",
            "Column: REPLCHT              Importance: 0.0\n",
            "Column: HELPHT               Importance: 0.0\n",
            "Column: HEATOTH              Importance: 0.0\n",
            "Column: EQUIPAUX             Importance: 0.0\n",
            "Column: REVERSE              Importance: 0.0\n",
            "Column: WARMAIR              Importance: 0.0\n",
            "Column: STEAMR               Importance: 0.0\n",
            "Column: PERMELEC             Importance: 0.0\n",
            "Column: PIPELESS             Importance: 0.0\n",
            "Column: ROOMHEAT             Importance: 0.0\n",
            "Column: WOODKILN             Importance: 0.0\n",
            "Column: CARRYEL              Importance: 0.0\n",
            "Column: CARRYKER             Importance: 0.0\n",
            "Column: FPFUEL               Importance: 0.0\n",
            "Column: NGFPFLUE             Importance: 0.0\n",
            "Column: USENGFP              Importance: 0.0\n",
            "Column: RANGE                Importance: 0.0\n",
            "Column: DIFEQUIP             Importance: 0.0\n",
            "Column: EQMAMT               Importance: 0.0\n",
            "Column: THERMAIN             Importance: 0.0\n",
            "Column: PROTHERM             Importance: 0.0\n",
            "Column: AUTOHEATNITE         Importance: 0.0\n",
            "Column: AUTOHEATDAY          Importance: 0.0\n",
            "Column: MOISTURE             Importance: 0.0\n",
            "Column: USEMOISTURE          Importance: 0.0\n",
            "Column: NUMH2ONOTNK          Importance: 0.0\n",
            "Column: NUMH2OHTRS           Importance: 0.0\n",
            "Column: H2OTYPE1             Importance: 0.0\n",
            "Column: WHEATOTH             Importance: 0.0\n",
            "Column: WHEATSIZ             Importance: 0.0\n",
            "Column: HELPWH               Importance: 0.0\n",
            "Column: AIRCOND              Importance: 0.0\n",
            "Column: DNTAC                Importance: 0.0\n",
            "Column: COOLTYPE             Importance: 0.0\n",
            "Column: ACOTHERS             Importance: 0.0\n",
            "Column: MAINTAC              Importance: 0.0\n",
            "Column: REPLCCAC             Importance: 0.0\n",
            "Column: HELPCAC              Importance: 0.0\n",
            "Column: USECENAC             Importance: 0.0\n",
            "Column: THERMAINAC           Importance: 0.0\n",
            "Column: PROTHERMAC           Importance: 0.0\n",
            "Column: AUTOCOOLNITE         Importance: 0.0\n",
            "Column: NUMBERAC             Importance: 0.0\n",
            "Column: WWACAGE              Importance: 0.0\n",
            "Column: REPLCWWAC            Importance: 0.0\n",
            "Column: HELPWWAC             Importance: 0.0\n",
            "Column: NOTMOIST             Importance: 0.0\n",
            "Column: HIGHCEIL             Importance: 0.0\n",
            "Column: CATHCEIL             Importance: 0.0\n",
            "Column: SWIMPOOL             Importance: 0.0\n",
            "Column: RECBATH              Importance: 0.0\n",
            "Column: FUELTUB              Importance: 0.0\n",
            "Column: NOUTLGTNT            Importance: 0.0\n",
            "Column: LGTOEE               Importance: 0.0\n",
            "Column: NGASLIGHT            Importance: 0.0\n",
            "Column: INSTLCFL             Importance: 0.0\n",
            "Column: HELPCFL              Importance: 0.0\n",
            "Column: SLDDRS               Importance: 0.0\n",
            "Column: WINDOWS              Importance: 0.0\n",
            "Column: NEWGLASS             Importance: 0.0\n",
            "Column: HELPWIN              Importance: 0.0\n",
            "Column: ADQINSUL             Importance: 0.0\n",
            "Column: INSTLINS             Importance: 0.0\n",
            "Column: HELPINS              Importance: 0.0\n",
            "Column: INSTLWS              Importance: 0.0\n",
            "Column: AGEWS                Importance: 0.0\n",
            "Column: AUDIT                Importance: 0.0\n",
            "Column: USEEL                Importance: 0.0\n",
            "Column: USENG                Importance: 0.0\n",
            "Column: USELP                Importance: 0.0\n",
            "Column: USEFO                Importance: 0.0\n",
            "Column: USEKERO              Importance: 0.0\n",
            "Column: USEWOOD              Importance: 0.0\n",
            "Column: USESOLAR             Importance: 0.0\n",
            "Column: USEOTH               Importance: 0.0\n",
            "Column: ELWARM               Importance: 0.0\n",
            "Column: ELECAUX              Importance: 0.0\n",
            "Column: ELCOOL               Importance: 0.0\n",
            "Column: ELWATER              Importance: 0.0\n",
            "Column: ELOTHER              Importance: 0.0\n",
            "Column: UGWARM               Importance: 0.0\n",
            "Column: UGASAUX              Importance: 0.0\n",
            "Column: UGWATER              Importance: 0.0\n",
            "Column: UGCOOK               Importance: 0.0\n",
            "Column: UGOTH                Importance: 0.0\n",
            "Column: LPWARM               Importance: 0.0\n",
            "Column: LPGAUX               Importance: 0.0\n",
            "Column: LPWATER              Importance: 0.0\n",
            "Column: LPCOOK               Importance: 0.0\n",
            "Column: LPOTHER              Importance: 0.0\n",
            "Column: FOWARM               Importance: 0.0\n",
            "Column: FOILAUX              Importance: 0.0\n",
            "Column: FOWATER              Importance: 0.0\n",
            "Column: FOOTHER              Importance: 0.0\n",
            "Column: KRWARM               Importance: 0.0\n",
            "Column: KEROAUX              Importance: 0.0\n",
            "Column: KRWATER              Importance: 0.0\n",
            "Column: KROTHER              Importance: 0.0\n",
            "Column: WDWARM               Importance: 0.0\n",
            "Column: WDWATER              Importance: 0.0\n",
            "Column: WDOTHUSE             Importance: 0.0\n",
            "Column: SOLWARM              Importance: 0.0\n",
            "Column: SOLARAUX             Importance: 0.0\n",
            "Column: SOLWATER             Importance: 0.0\n",
            "Column: SOLOTHER             Importance: 0.0\n",
            "Column: OTHWARM              Importance: 0.0\n",
            "Column: OTHERAUX             Importance: 0.0\n",
            "Column: OTHWATER             Importance: 0.0\n",
            "Column: OTHCOOK              Importance: 0.0\n",
            "Column: ONSITE               Importance: 0.0\n",
            "Column: PELHEAT              Importance: 0.0\n",
            "Column: PELHOTWA             Importance: 0.0\n",
            "Column: PELCOOK              Importance: 0.0\n",
            "Column: PELAC                Importance: 0.0\n",
            "Column: PELLIGHT             Importance: 0.0\n",
            "Column: PGASHEAT             Importance: 0.0\n",
            "Column: PGASHTWA             Importance: 0.0\n",
            "Column: PUGCOOK              Importance: 0.0\n",
            "Column: PUGOTH               Importance: 0.0\n",
            "Column: FOPAY                Importance: 0.0\n",
            "Column: LPGPAY               Importance: 0.0\n",
            "Column: LPGDELV              Importance: 0.0\n",
            "Column: WOODLOGS             Importance: 0.0\n",
            "Column: WDSCRAP              Importance: 0.0\n",
            "Column: WDPELLET             Importance: 0.0\n",
            "Column: WDOTHER              Importance: 0.0\n",
            "Column: WOODAMT              Importance: 0.0\n",
            "Column: HHSEX                Importance: 0.0\n",
            "Column: EMPLOYHH             Importance: 0.0\n",
            "Column: SPOUSE               Importance: 0.0\n",
            "Column: SDESCENT             Importance: 0.0\n",
            "Column: HHAGE                Importance: 0.0\n",
            "Column: AGEHHMEMCAT3         Importance: 0.0\n",
            "Column: AGEHHMEMCAT5         Importance: 0.0\n",
            "Column: HBUSNESS             Importance: 0.0\n",
            "Column: ATHOME               Importance: 0.0\n",
            "Column: TELLWORK             Importance: 0.0\n",
            "Column: RETIREPY             Importance: 0.0\n",
            "Column: SSINCOME             Importance: 0.0\n",
            "Column: CASHBEN              Importance: 0.0\n",
            "Column: INVESTMT             Importance: 0.0\n",
            "Column: POVERTY100           Importance: 0.0\n",
            "Column: HUPROJ               Importance: 0.0\n",
            "Column: RENTHELP             Importance: 0.0\n",
            "Column: FOODASST             Importance: 0.0\n",
            "Column: CUFEETNG             Importance: 0.0\n",
            "Column: DOLNGSPH             Importance: 0.0\n",
            "Column: DOLNGWTH             Importance: 0.0\n",
            "Column: DOLNGOTH             Importance: 0.0\n",
            "Column: GALLONLPWTH          Importance: 0.0\n",
            "Column: DOLLARLP             Importance: 0.0\n",
            "Column: DOLLPSPH             Importance: 0.0\n",
            "Column: DOLLPWTH             Importance: 0.0\n",
            "Column: DOLLPOTH             Importance: 0.0\n",
            "Column: GALLONFO             Importance: 0.0\n",
            "Column: GALLONFOSPH          Importance: 0.0\n",
            "Column: GALLONFOWTH          Importance: 0.0\n",
            "Column: GALLONFOOTH          Importance: 0.0\n",
            "Column: DOLLARFO             Importance: 0.0\n",
            "Column: DOLFOSPH             Importance: 0.0\n",
            "Column: DOLFOWTH             Importance: 0.0\n",
            "Column: DOLFOOTH             Importance: 0.0\n",
            "Column: GALLONKER            Importance: 0.0\n",
            "Column: GALLONKERSPH         Importance: 0.0\n",
            "Column: GALLONKERWTH         Importance: 0.0\n",
            "Column: GALLONKEROTH         Importance: 0.0\n",
            "Column: DOLLARKER            Importance: 0.0\n",
            "Column: DOLKERSPH            Importance: 0.0\n",
            "Column: DOLKERWTH            Importance: 0.0\n",
            "Column: DOLKEROTH            Importance: 0.0\n",
            "Column: SCALEEL              Importance: 0.0\n",
            "Column: PERIODNG             Importance: 0.0\n",
            "Column: SCALENG              Importance: 0.0\n",
            "Column: PERIODLP             Importance: 0.0\n",
            "Column: SCALELP              Importance: 0.0\n",
            "Column: PERIODFO             Importance: 0.0\n",
            "Column: SCALEFO              Importance: 0.0\n",
            "Column: METROMICRO_MICRO     Importance: 0.0\n",
            "Column: METROMICRO_NONE      Importance: 0.0\n",
            "Column: NOCRCASH_.           Importance: 0.0\n",
            "Column: NOCRCASH_1           Importance: 0.0\n",
            "Column: NOCRCASH_10          Importance: 0.0\n",
            "Column: NOCRCASH_12          Importance: 0.0\n",
            "Column: NOCRCASH_15          Importance: 0.0\n",
            "Column: NOCRCASH_16          Importance: 0.0\n",
            "Column: NOCRCASH_2           Importance: 0.0\n",
            "Column: NOCRCASH_20          Importance: 0.0\n",
            "Column: NOCRCASH_24          Importance: 0.0\n",
            "Column: NOCRCASH_25          Importance: 0.0\n",
            "Column: NOCRCASH_28          Importance: 0.0\n",
            "Column: NOCRCASH_3           Importance: 0.0\n",
            "Column: NOCRCASH_4           Importance: 0.0\n",
            "Column: NOCRCASH_40          Importance: 0.0\n",
            "Column: NOCRCASH_5           Importance: 0.0\n",
            "Column: NOCRCASH_55          Importance: 0.0\n",
            "Column: NOCRCASH_6           Importance: 0.0\n",
            "Column: NOCRCASH_8           Importance: 0.0\n",
            "Column: NKRGALNC_.           Importance: 0.0\n",
            "Column: NKRGALNC_1           Importance: 0.0\n",
            "Column: NKRGALNC_10          Importance: 0.0\n",
            "Column: NKRGALNC_15          Importance: 0.0\n",
            "Column: NKRGALNC_2           Importance: 0.0\n",
            "Column: NKRGALNC_20          Importance: 0.0\n",
            "Column: NKRGALNC_3           Importance: 0.0\n",
            "Column: NKRGALNC_30          Importance: 0.0\n",
            "Column: NKRGALNC_5           Importance: 0.0\n",
            "Column: NKRGALNC_55          Importance: 0.0\n",
            "Column: NKRGALNC_77          Importance: 0.0\n",
            "Column: NKRGALNC_8           Importance: 0.0\n",
            "Column: IECC_Climate_Pub_2B  Importance: 0.0\n",
            "Column: IECC_Climate_Pub_3A  Importance: 0.0\n",
            "Column: IECC_Climate_Pub_3B-4B Importance: 0.0\n",
            "Column: IECC_Climate_Pub_4A  Importance: 0.0\n",
            "Column: IECC_Climate_Pub_5A  Importance: 0.0\n",
            "Column: IECC_Climate_Pub_5B-5C Importance: 0.0\n",
            "Column: IECC_Climate_Pub_6A-6B Importance: 0.0\n",
            "Column: IECC_Climate_Pub_7A-7B-7AK-8AK Importance: 0.0\n"
          ]
        }
      ],
      "source": [
        "# Findin numerical feature importances\n",
        "importances = list(rfr.feature_importances_)\n",
        "\n",
        "feature_importances = [(feature, round(importance, 5)) for feature, importance in zip(X_columns, importances)]\n",
        "\n",
        "\n",
        "# Sorting the feature importances with the most important feature at the top\n",
        "feature_importances = sorted(feature_importances, key = lambda i: i[1], reverse = True)\n",
        "\n",
        "[print('Column: {:20} Importance: {}'.format(*j)) for j in feature_importances];"
      ]
    },
    {
      "cell_type": "markdown",
      "source": [
        "Finding the most important features"
      ],
      "metadata": {
        "id": "RmZYumMTPE_U"
      },
      "id": "RmZYumMTPE_U"
    },
    {
      "cell_type": "code",
      "source": [
        "feature_importances = [feature for feature in feature_importances if feature[1] >= 0.001]\n",
        "[print('Column: {:20} Importance: {}'.format(*j)) for j in feature_importances];"
      ],
      "metadata": {
        "colab": {
          "base_uri": "https://localhost:8080/"
        },
        "id": "aZKuwtLrPYEw",
        "outputId": "c3aea92a-1bc9-4b0d-a51d-4b3d7805dd0f"
      },
      "id": "aZKuwtLrPYEw",
      "execution_count": null,
      "outputs": [
        {
          "output_type": "stream",
          "name": "stdout",
          "text": [
            "Column: DOLLAREL             Importance: 0.85117\n",
            "Column: REPORTABLE_DOMAIN    Importance: 0.05115\n",
            "Column: HDD50                Importance: 0.0241\n",
            "Column: DIVISION             Importance: 0.01293\n",
            "Column: NWEIGHT              Importance: 0.00649\n",
            "Column: REGIONC              Importance: 0.00546\n",
            "Column: HEATROOM             Importance: 0.00363\n",
            "Column: HDD65                Importance: 0.00357\n",
            "Column: OTHROOMS             Importance: 0.00282\n",
            "Column: TOTALDOL             Importance: 0.00278\n",
            "Column: TOTHSQFT             Importance: 0.00213\n",
            "Column: GND_HDD65            Importance: 0.00173\n",
            "Column: DOLELOTH             Importance: 0.00162\n",
            "Column: GALLONLPOTH          Importance: 0.00162\n",
            "Column: GALLONLP             Importance: 0.00156\n",
            "Column: TOTALDOLOTH          Importance: 0.00155\n",
            "Column: HDD30YR              Importance: 0.00142\n",
            "Column: TOTCSQFT             Importance: 0.00122\n",
            "Column: TOTALDOLCOL          Importance: 0.00113\n",
            "Column: OVEN                 Importance: 0.00108\n",
            "Column: NCOMBATH             Importance: 0.00105\n",
            "Column: DOLELSPH             Importance: 0.00105\n",
            "Column: DOLELWTH             Importance: 0.00105\n"
          ]
        }
      ]
    },
    {
      "cell_type": "markdown",
      "source": [
        "Plotting the variables and the corresponding importance"
      ],
      "metadata": {
        "id": "hPOwfe-xPnjw"
      },
      "id": "hPOwfe-xPnjw"
    },
    {
      "cell_type": "code",
      "execution_count": null,
      "id": "de197837",
      "metadata": {
        "colab": {
          "base_uri": "https://localhost:8080/",
          "height": 320
        },
        "id": "de197837",
        "outputId": "476e0377-001a-4c7d-dc74-7f2dac747f24"
      },
      "outputs": [
        {
          "output_type": "execute_result",
          "data": {
            "text/plain": [
              "Text(0.5, 1.0, 'Variable Importances')"
            ]
          },
          "metadata": {},
          "execution_count": 43
        },
        {
          "output_type": "display_data",
          "data": {
            "text/plain": [
              "<Figure size 432x288 with 1 Axes>"
            ],
            "image/png": "[encoded data removed]"
          },
          "metadata": {}
        }
      ],
      "source": [
        "# Reset style \n",
        "plt.style.use('fivethirtyeight')\n",
        "\n",
        "# list of x locations for plotting\n",
        "x_values = list(range(len(importances)))\n",
        "\n",
        "# Make a bar chart\n",
        "plt.bar(x_values, importances, color = 'r', edgecolor = 'k', linewidth = 1)\n",
        "\n",
        "# Tick labels for x axis\n",
        "# plt.xticks(x_values, X_columns, rotation='vertical')\n",
        "\n",
        "# Axis labels and title\n",
        "plt.ylabel('Importance')\n",
        "# plt.xlabel('Variable')\n",
        "plt.title('Variable Importances')"
      ]
    },
    {
      "cell_type": "markdown",
      "source": [
        "Again sorting the features on the basis of importance"
      ],
      "metadata": {
        "id": "svtuMdczP7TT"
      },
      "id": "svtuMdczP7TT"
    },
    {
      "cell_type": "code",
      "execution_count": null,
      "id": "c9a4a345",
      "metadata": {
        "colab": {
          "base_uri": "https://localhost:8080/"
        },
        "id": "c9a4a345",
        "outputId": "2b33751d-e473-44fb-920a-a9fe05a71a07"
      },
      "outputs": [
        {
          "output_type": "stream",
          "name": "stdout",
          "text": [
            "23\n"
          ]
        }
      ],
      "source": [
        "# Listing features sorted from most to least important\n",
        "\n",
        "sorted_importances = [importance[1] for importance in feature_importances]\n",
        "sorted_features = [importance[0] for importance in feature_importances]\n",
        "print(len(sorted_importances))"
      ]
    },
    {
      "cell_type": "markdown",
      "source": [
        "Finding the variables' cumulative importance"
      ],
      "metadata": {
        "id": "80AHGcbwQYP1"
      },
      "id": "80AHGcbwQYP1"
    },
    {
      "cell_type": "code",
      "source": [
        "# Find number of features for cumulative importance of 95%\n",
        "\n",
        "cumulative_importances = np.cumsum(sorted_importances)\n",
        "imp_features_count =  np.where(cumulative_importances > 0.97)[0][0] + 1\n",
        "\n",
        "print('Number of features for 95% importance:',imp_features_count)"
      ],
      "metadata": {
        "colab": {
          "base_uri": "https://localhost:8080/"
        },
        "id": "qbL4MjM6cAaq",
        "outputId": "4dbf0521-ac5d-45e1-e694-acf5dc44d233"
      },
      "id": "qbL4MjM6cAaq",
      "execution_count": null,
      "outputs": [
        {
          "output_type": "stream",
          "name": "stdout",
          "text": [
            "Number of features for 95% importance: 14\n"
          ]
        }
      ]
    },
    {
      "cell_type": "code",
      "execution_count": null,
      "id": "7c72473a",
      "metadata": {
        "colab": {
          "base_uri": "https://localhost:8080/"
        },
        "id": "7c72473a",
        "outputId": "25550394-5dbf-48e8-ebf7-f2de30039f66"
      },
      "outputs": [
        {
          "output_type": "stream",
          "name": "stdout",
          "text": [
            "Important train features(important_X_train) shape: (9666, 14)\n",
            "Important test features(important_X_test) shape: (2417, 14)\n"
          ]
        }
      ],
      "source": [
        "# Taking the column names of the most important features\n",
        "important_feature_names = [feature[0] for feature in feature_importances[0:imp_features_count]]\n",
        "\n",
        "# Taking the columns of the most important features\n",
        "important_indices = [X_columns.index(feature) for feature in important_feature_names]\n",
        "\n",
        "# Generating training and testing sets containing only the important features\n",
        "important_X_train = X_train.iloc[:, important_indices]\n",
        "important_X_test = X_test.iloc[:, important_indices]\n",
        "\n",
        "print('Important train features(important_X_train) shape:', important_X_train.shape)\n",
        "print('Important test features(important_X_test) shape:', important_X_test.shape)"
      ]
    },
    {
      "cell_type": "code",
      "execution_count": null,
      "id": "be7aebe9",
      "metadata": {
        "id": "be7aebe9"
      },
      "outputs": [],
      "source": [
        "# Train the expanded model on only the important features\n",
        "rfr.fit(important_X_train, y_train);"
      ]
    },
    {
      "cell_type": "markdown",
      "source": [
        "Again running Random Forest Regressor (rfr) model on important columns only"
      ],
      "metadata": {
        "id": "5qltS1LAplnX"
      },
      "id": "5qltS1LAplnX"
    },
    {
      "cell_type": "code",
      "source": [
        "for model in regressor[:]:\n",
        "    start = time()\n",
        "    model.fit(X_train, y_train)\n",
        "    train_time = time() - start\n",
        "    # start = time()\n",
        "    y_pred = model.predict(X_test)\n",
        "    predict_time = time()-start \n",
        "    # param_grid = param_dict_rfr   \n",
        "    print(model)\n",
        "    print(\"\\t Training time: %0.3fs\" % train_time)\n",
        "    print(\"\\t Prediction time: %0.3fs\" % predict_time)\n",
        "    # print(\"\\tExplained variance: \", explained_variance_score(y_test, y_pred))\n",
        "    # print(\"\\tMean absolute error:\", mean_absolute_error(y_test, y_pred))\n",
        "    print(\"\\t Mean Squared error: \", mean_squared_error(y_test, y_pred))\n",
        "    print(\"\\t R2 score:\", r2_score(y_test, y_pred))"
      ],
      "metadata": {
        "colab": {
          "base_uri": "https://localhost:8080/"
        },
        "id": "7rXNfhyVqoOB",
        "outputId": "6a886c2c-ae12-4ebd-960a-1951abddfc87"
      },
      "id": "7rXNfhyVqoOB",
      "execution_count": null,
      "outputs": [
        {
          "output_type": "stream",
          "name": "stdout",
          "text": [
            "RandomForestRegressor(max_depth=6, n_estimators=50, random_state=42)\n",
            "\t Training time: 12.890s\n",
            "\t Prediction time: 12.909s\n",
            "\t Mean Squared error:  6323352.602906706\n",
            "\t R2 score: 0.8748384245773435\n"
          ]
        }
      ]
    },
    {
      "cell_type": "markdown",
      "source": [
        ""
      ],
      "metadata": {
        "id": "ErnrNpORhZfg"
      },
      "id": "ErnrNpORhZfg"
    },
    {
      "cell_type": "code",
      "source": [
        "# print(important_feature_names)\n",
        "\n",
        "df_concat = pd.concat([important_X_train, y_train], axis=1)\n",
        "corr_values_important = df_concat[df_concat.columns[1:]].corr()[Y_colname][:]\n",
        "\n",
        "corr_values.rename(columns = {'KWH' : 'correlation'}, inplace = True)\n",
        "print(corr_values_important)"
      ],
      "metadata": {
        "colab": {
          "base_uri": "https://localhost:8080/"
        },
        "id": "YmUtsFyihZ7N",
        "outputId": "319bf37a-33c1-42fc-fec3-e9171f4b2662"
      },
      "id": "YmUtsFyihZ7N",
      "execution_count": null,
      "outputs": [
        {
          "output_type": "stream",
          "name": "stdout",
          "text": [
            "                        KWH\n",
            "REPORTABLE_DOMAIN  0.092888\n",
            "HDD50             -0.116777\n",
            "DIVISION           0.025844\n",
            "NWEIGHT            0.003103\n",
            "REGIONC            0.093433\n",
            "HEATROOM           0.402005\n",
            "HDD65             -0.134628\n",
            "OTHROOMS           0.350746\n",
            "TOTALDOL           0.631271\n",
            "TOTHSQFT           0.411081\n",
            "GND_HDD65         -0.182833\n",
            "DOLELOTH           0.700779\n",
            "GALLONLPOTH        0.134879\n",
            "KWH                1.000000\n"
          ]
        }
      ]
    },
    {
      "cell_type": "markdown",
      "source": [
        "Plotting heatmap of the correlation"
      ],
      "metadata": {
        "id": "dSHYgBXvj1ux"
      },
      "id": "dSHYgBXvj1ux"
    },
    {
      "cell_type": "code",
      "source": [
        "correlation_matrix = df_concat.corr(method = 'pearson')\n",
        "\n",
        "fig, ax = plt.subplots(figsize=(10,10))      \n",
        "sns.heatmap(correlation_matrix, annot=False, linewidths=.5, ax=ax)\n",
        "plt.title('Correlation Matric for Numeric Features')\n",
        "plt.xlabel('Corrrelation of KWH and other features')\n",
        "plt.ylabel('Corrrelation of KWH and other features')\n",
        "plt.show()"
      ],
      "metadata": {
        "colab": {
          "base_uri": "https://localhost:8080/",
          "height": 816
        },
        "id": "TFb8ivmuizt-",
        "outputId": "bab172e0-30d8-4f2c-a8b2-01614b87216e"
      },
      "id": "TFb8ivmuizt-",
      "execution_count": null,
      "outputs": [
        {
          "output_type": "display_data",
          "data": {
            "text/plain": [
              "<Figure size 720x720 with 2 Axes>"
            ],
            "image/png": "[encoded data removed]"
          },
          "metadata": {}
        }
      ]
    },
    {
      "cell_type": "markdown",
      "source": [
        "From the heatmap, it can be observed that the correlation of KWH is high with certain variables than others."
      ],
      "metadata": {
        "id": "8NnZNgnyj5_A"
      },
      "id": "8NnZNgnyj5_A"
    },
    {
      "cell_type": "markdown",
      "source": [
        "# Conclusion\n",
        "\n",
        "The features contributing the most towards the prediction of the electricity consumption is obtained with several steps of data cleaning, processing and feature engineering. <br>\n",
        "Random Forest Regressor is giving fair output with R2 score of 0.875. With more data exploration and manipulation, more optimised prediction can be obtained. <br>  \n",
        "\n",
        "\n"
      ],
      "metadata": {
        "id": "nA0-Vs8fTqx-"
      },
      "id": "nA0-Vs8fTqx-"
    },
    {
      "cell_type": "markdown",
      "source": [
        "### Further tasks\n",
        "\n",
        "Other models such as Neural Networks can be used for the prediction. <br>\n",
        "The features can be dugged deep with more EDA and by using libraries such as FeatureSelector to further improve the model and working more on feature importance. \n",
        "\n",
        "\n"
      ],
      "metadata": {
        "id": "IscFA9eXVB1h"
      },
      "id": "IscFA9eXVB1h"
    },
    {
      "cell_type": "markdown",
      "source": [
        "### References\n",
        "\n",
        "*  https://towardsdatascience.com/a-feature-selection-tool-for-machine-learning-in-python-b64dd23710f0\n",
        "*   https://machinelearningmastery.com/feature-selection-with-real-and-categorical-data/\n",
        "*   https://www.youtube.com/watch?v=ioXKxulmwVQ&t=0s\n",
        "*   https://towardsdatascience.com/a-feature-selection-tool-for-machine-learning-in-python-b64dd23710f0\n",
        "\n",
        "*   https://machinelearninghd.com/gridsearchcv-hyperparameter-tuning-sckit-learn-regression-classification/\n",
        "\n",
        "*  https://towardsdatascience.com/improving-random-forest-in-python-part-1-893916666cd\n"
      ],
      "metadata": {
        "id": "GK021FVZWJS8"
      },
      "id": "GK021FVZWJS8"
    }
  ],
  "metadata": {
    "kernelspec": {
      "display_name": "Python 3 (ipykernel)",
      "language": "python",
      "name": "python3"
    },
    "language_info": {
      "codemirror_mode": {
        "name": "ipython",
        "version": 3
      },
      "file_extension": ".py",
      "mimetype": "text/x-python",
      "name": "python",
      "nbconvert_exporter": "python",
      "pygments_lexer": "ipython3",
      "version": "3.9.7"
    },
    "colab": {
      "name": "Energy_Consumption_Analysis",
      "provenance": [],
      "collapsed_sections": []
    },
    "accelerator": "GPU",
    "gpuClass": "standard"
  },
  "nbformat": 4,
  "nbformat_minor": 5
}